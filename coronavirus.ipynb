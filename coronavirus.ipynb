{
 "cells": [
  {
   "cell_type": "code",
   "execution_count": 73,
   "metadata": {},
   "outputs": [],
   "source": [
    "import pandas as pd\n",
    "import numpy as np\n",
    "import seaborn as sns\n",
    "import matplotlib.pyplot as plt\n",
    "import warnings\n",
    "warnings.filterwarnings('ignore')"
   ]
  },
  {
   "cell_type": "code",
   "execution_count": 74,
   "metadata": {},
   "outputs": [],
   "source": [
    "covid=pd.read_csv('coronavirus.csv')"
   ]
  },
  {
   "cell_type": "code",
   "execution_count": 75,
   "metadata": {},
   "outputs": [
    {
     "data": {
      "text/html": [
       "<div>\n",
       "<style scoped>\n",
       "    .dataframe tbody tr th:only-of-type {\n",
       "        vertical-align: middle;\n",
       "    }\n",
       "\n",
       "    .dataframe tbody tr th {\n",
       "        vertical-align: top;\n",
       "    }\n",
       "\n",
       "    .dataframe thead th {\n",
       "        text-align: right;\n",
       "    }\n",
       "</style>\n",
       "<table border=\"1\" class=\"dataframe\">\n",
       "  <thead>\n",
       "    <tr style=\"text-align: right;\">\n",
       "      <th></th>\n",
       "      <th>Date</th>\n",
       "      <th>Country</th>\n",
       "      <th>Confirmed</th>\n",
       "      <th>Recovered</th>\n",
       "      <th>Deaths</th>\n",
       "    </tr>\n",
       "  </thead>\n",
       "  <tbody>\n",
       "    <tr>\n",
       "      <th>0</th>\n",
       "      <td>2020-01-22</td>\n",
       "      <td>Afghanistan</td>\n",
       "      <td>0</td>\n",
       "      <td>0</td>\n",
       "      <td>0</td>\n",
       "    </tr>\n",
       "    <tr>\n",
       "      <th>1</th>\n",
       "      <td>2020-01-22</td>\n",
       "      <td>Albania</td>\n",
       "      <td>0</td>\n",
       "      <td>0</td>\n",
       "      <td>0</td>\n",
       "    </tr>\n",
       "    <tr>\n",
       "      <th>2</th>\n",
       "      <td>2020-01-22</td>\n",
       "      <td>Algeria</td>\n",
       "      <td>0</td>\n",
       "      <td>0</td>\n",
       "      <td>0</td>\n",
       "    </tr>\n",
       "    <tr>\n",
       "      <th>3</th>\n",
       "      <td>2020-01-22</td>\n",
       "      <td>Andorra</td>\n",
       "      <td>0</td>\n",
       "      <td>0</td>\n",
       "      <td>0</td>\n",
       "    </tr>\n",
       "    <tr>\n",
       "      <th>4</th>\n",
       "      <td>2020-01-22</td>\n",
       "      <td>Angola</td>\n",
       "      <td>0</td>\n",
       "      <td>0</td>\n",
       "      <td>0</td>\n",
       "    </tr>\n",
       "    <tr>\n",
       "      <th>...</th>\n",
       "      <td>...</td>\n",
       "      <td>...</td>\n",
       "      <td>...</td>\n",
       "      <td>...</td>\n",
       "      <td>...</td>\n",
       "    </tr>\n",
       "    <tr>\n",
       "      <th>23683</th>\n",
       "      <td>2020-05-26</td>\n",
       "      <td>West Bank and Gaza</td>\n",
       "      <td>429</td>\n",
       "      <td>365</td>\n",
       "      <td>3</td>\n",
       "    </tr>\n",
       "    <tr>\n",
       "      <th>23684</th>\n",
       "      <td>2020-05-26</td>\n",
       "      <td>Western Sahara</td>\n",
       "      <td>9</td>\n",
       "      <td>6</td>\n",
       "      <td>1</td>\n",
       "    </tr>\n",
       "    <tr>\n",
       "      <th>23685</th>\n",
       "      <td>2020-05-26</td>\n",
       "      <td>Yemen</td>\n",
       "      <td>249</td>\n",
       "      <td>10</td>\n",
       "      <td>49</td>\n",
       "    </tr>\n",
       "    <tr>\n",
       "      <th>23686</th>\n",
       "      <td>2020-05-26</td>\n",
       "      <td>Zambia</td>\n",
       "      <td>920</td>\n",
       "      <td>336</td>\n",
       "      <td>7</td>\n",
       "    </tr>\n",
       "    <tr>\n",
       "      <th>23687</th>\n",
       "      <td>2020-05-26</td>\n",
       "      <td>Zimbabwe</td>\n",
       "      <td>56</td>\n",
       "      <td>25</td>\n",
       "      <td>4</td>\n",
       "    </tr>\n",
       "  </tbody>\n",
       "</table>\n",
       "<p>23688 rows × 5 columns</p>\n",
       "</div>"
      ],
      "text/plain": [
       "             Date             Country  Confirmed  Recovered  Deaths\n",
       "0      2020-01-22         Afghanistan          0          0       0\n",
       "1      2020-01-22             Albania          0          0       0\n",
       "2      2020-01-22             Algeria          0          0       0\n",
       "3      2020-01-22             Andorra          0          0       0\n",
       "4      2020-01-22              Angola          0          0       0\n",
       "...           ...                 ...        ...        ...     ...\n",
       "23683  2020-05-26  West Bank and Gaza        429        365       3\n",
       "23684  2020-05-26      Western Sahara          9          6       1\n",
       "23685  2020-05-26               Yemen        249         10      49\n",
       "23686  2020-05-26              Zambia        920        336       7\n",
       "23687  2020-05-26            Zimbabwe         56         25       4\n",
       "\n",
       "[23688 rows x 5 columns]"
      ]
     },
     "execution_count": 75,
     "metadata": {},
     "output_type": "execute_result"
    }
   ],
   "source": [
    "covid"
   ]
  },
  {
   "cell_type": "code",
   "execution_count": 76,
   "metadata": {},
   "outputs": [
    {
     "data": {
      "text/html": [
       "<div>\n",
       "<style scoped>\n",
       "    .dataframe tbody tr th:only-of-type {\n",
       "        vertical-align: middle;\n",
       "    }\n",
       "\n",
       "    .dataframe tbody tr th {\n",
       "        vertical-align: top;\n",
       "    }\n",
       "\n",
       "    .dataframe thead th {\n",
       "        text-align: right;\n",
       "    }\n",
       "</style>\n",
       "<table border=\"1\" class=\"dataframe\">\n",
       "  <thead>\n",
       "    <tr style=\"text-align: right;\">\n",
       "      <th></th>\n",
       "      <th>Confirmed</th>\n",
       "      <th>Recovered</th>\n",
       "      <th>Deaths</th>\n",
       "    </tr>\n",
       "  </thead>\n",
       "  <tbody>\n",
       "    <tr>\n",
       "      <th>count</th>\n",
       "      <td>2.368800e+04</td>\n",
       "      <td>23688.000000</td>\n",
       "      <td>23688.000000</td>\n",
       "    </tr>\n",
       "    <tr>\n",
       "      <th>mean</th>\n",
       "      <td>7.969368e+03</td>\n",
       "      <td>2581.801714</td>\n",
       "      <td>526.935030</td>\n",
       "    </tr>\n",
       "    <tr>\n",
       "      <th>std</th>\n",
       "      <td>5.842109e+04</td>\n",
       "      <td>15143.101257</td>\n",
       "      <td>3992.815956</td>\n",
       "    </tr>\n",
       "    <tr>\n",
       "      <th>min</th>\n",
       "      <td>0.000000e+00</td>\n",
       "      <td>0.000000</td>\n",
       "      <td>0.000000</td>\n",
       "    </tr>\n",
       "    <tr>\n",
       "      <th>25%</th>\n",
       "      <td>0.000000e+00</td>\n",
       "      <td>0.000000</td>\n",
       "      <td>0.000000</td>\n",
       "    </tr>\n",
       "    <tr>\n",
       "      <th>50%</th>\n",
       "      <td>1.800000e+01</td>\n",
       "      <td>1.000000</td>\n",
       "      <td>0.000000</td>\n",
       "    </tr>\n",
       "    <tr>\n",
       "      <th>75%</th>\n",
       "      <td>7.300000e+02</td>\n",
       "      <td>123.000000</td>\n",
       "      <td>13.000000</td>\n",
       "    </tr>\n",
       "    <tr>\n",
       "      <th>max</th>\n",
       "      <td>1.680913e+06</td>\n",
       "      <td>384902.000000</td>\n",
       "      <td>98913.000000</td>\n",
       "    </tr>\n",
       "  </tbody>\n",
       "</table>\n",
       "</div>"
      ],
      "text/plain": [
       "          Confirmed      Recovered        Deaths\n",
       "count  2.368800e+04   23688.000000  23688.000000\n",
       "mean   7.969368e+03    2581.801714    526.935030\n",
       "std    5.842109e+04   15143.101257   3992.815956\n",
       "min    0.000000e+00       0.000000      0.000000\n",
       "25%    0.000000e+00       0.000000      0.000000\n",
       "50%    1.800000e+01       1.000000      0.000000\n",
       "75%    7.300000e+02     123.000000     13.000000\n",
       "max    1.680913e+06  384902.000000  98913.000000"
      ]
     },
     "execution_count": 76,
     "metadata": {},
     "output_type": "execute_result"
    }
   ],
   "source": [
    "covid.describe()"
   ]
  },
  {
   "cell_type": "code",
   "execution_count": 77,
   "metadata": {},
   "outputs": [
    {
     "data": {
      "text/plain": [
       "array(['Afghanistan', 'Albania', 'Algeria', 'Andorra', 'Angola',\n",
       "       'Antigua and Barbuda', 'Argentina', 'Armenia', 'Australia',\n",
       "       'Austria', 'Azerbaijan', 'Bahamas', 'Bahrain', 'Bangladesh',\n",
       "       'Barbados', 'Belarus', 'Belgium', 'Belize', 'Benin', 'Bhutan',\n",
       "       'Bolivia', 'Bosnia and Herzegovina', 'Botswana', 'Brazil',\n",
       "       'Brunei', 'Bulgaria', 'Burkina Faso', 'Burma', 'Burundi',\n",
       "       'Cabo Verde', 'Cambodia', 'Cameroon', 'Canada',\n",
       "       'Central African Republic', 'Chad', 'Chile', 'China', 'Colombia',\n",
       "       'Comoros', 'Congo (Brazzaville)', 'Congo (Kinshasa)', 'Costa Rica',\n",
       "       \"Cote d'Ivoire\", 'Croatia', 'Cuba', 'Cyprus', 'Czechia', 'Denmark',\n",
       "       'Diamond Princess', 'Djibouti', 'Dominica', 'Dominican Republic',\n",
       "       'Ecuador', 'Egypt', 'El Salvador', 'Equatorial Guinea', 'Eritrea',\n",
       "       'Estonia', 'Eswatini', 'Ethiopia', 'Fiji', 'Finland', 'France',\n",
       "       'Gabon', 'Gambia', 'Georgia', 'Germany', 'Ghana', 'Greece',\n",
       "       'Grenada', 'Guatemala', 'Guinea', 'Guinea-Bissau', 'Guyana',\n",
       "       'Haiti', 'Holy See', 'Honduras', 'Hungary', 'Iceland', 'India',\n",
       "       'Indonesia', 'Iran', 'Iraq', 'Ireland', 'Israel', 'Italy',\n",
       "       'Jamaica', 'Japan', 'Jordan', 'Kazakhstan', 'Kenya',\n",
       "       'Korea, South', 'Kosovo', 'Kuwait', 'Kyrgyzstan', 'Laos', 'Latvia',\n",
       "       'Lebanon', 'Lesotho', 'Liberia', 'Libya', 'Liechtenstein',\n",
       "       'Lithuania', 'Luxembourg', 'MS Zaandam', 'Madagascar', 'Malawi',\n",
       "       'Malaysia', 'Maldives', 'Mali', 'Malta', 'Mauritania', 'Mauritius',\n",
       "       'Mexico', 'Moldova', 'Monaco', 'Mongolia', 'Montenegro', 'Morocco',\n",
       "       'Mozambique', 'Namibia', 'Nepal', 'Netherlands', 'New Zealand',\n",
       "       'Nicaragua', 'Niger', 'Nigeria', 'North Macedonia', 'Norway',\n",
       "       'Oman', 'Pakistan', 'Panama', 'Papua New Guinea', 'Paraguay',\n",
       "       'Peru', 'Philippines', 'Poland', 'Portugal', 'Qatar', 'Romania',\n",
       "       'Russia', 'Rwanda', 'Saint Kitts and Nevis', 'Saint Lucia',\n",
       "       'Saint Vincent and the Grenadines', 'San Marino',\n",
       "       'Sao Tome and Principe', 'Saudi Arabia', 'Senegal', 'Serbia',\n",
       "       'Seychelles', 'Sierra Leone', 'Singapore', 'Slovakia', 'Slovenia',\n",
       "       'Somalia', 'South Africa', 'South Sudan', 'Spain', 'Sri Lanka',\n",
       "       'Sudan', 'Suriname', 'Sweden', 'Switzerland', 'Syria', 'Taiwan*',\n",
       "       'Tajikistan', 'Tanzania', 'Thailand', 'Timor-Leste', 'Togo',\n",
       "       'Trinidad and Tobago', 'Tunisia', 'Turkey', 'US', 'Uganda',\n",
       "       'Ukraine', 'United Arab Emirates', 'United Kingdom', 'Uruguay',\n",
       "       'Uzbekistan', 'Venezuela', 'Vietnam', 'West Bank and Gaza',\n",
       "       'Western Sahara', 'Yemen', 'Zambia', 'Zimbabwe'], dtype=object)"
      ]
     },
     "execution_count": 77,
     "metadata": {},
     "output_type": "execute_result"
    }
   ],
   "source": [
    "covid['Country'].unique()"
   ]
  },
  {
   "cell_type": "code",
   "execution_count": 78,
   "metadata": {},
   "outputs": [],
   "source": [
    "dt=covid.groupby('Country').sum()"
   ]
  },
  {
   "cell_type": "code",
   "execution_count": 79,
   "metadata": {},
   "outputs": [
    {
     "data": {
      "text/html": [
       "<div>\n",
       "<style scoped>\n",
       "    .dataframe tbody tr th:only-of-type {\n",
       "        vertical-align: middle;\n",
       "    }\n",
       "\n",
       "    .dataframe tbody tr th {\n",
       "        vertical-align: top;\n",
       "    }\n",
       "\n",
       "    .dataframe thead th {\n",
       "        text-align: right;\n",
       "    }\n",
       "</style>\n",
       "<table border=\"1\" class=\"dataframe\">\n",
       "  <thead>\n",
       "    <tr style=\"text-align: right;\">\n",
       "      <th></th>\n",
       "      <th>Confirmed</th>\n",
       "      <th>Recovered</th>\n",
       "      <th>Deaths</th>\n",
       "    </tr>\n",
       "    <tr>\n",
       "      <th>Country</th>\n",
       "      <th></th>\n",
       "      <th></th>\n",
       "      <th></th>\n",
       "    </tr>\n",
       "  </thead>\n",
       "  <tbody>\n",
       "    <tr>\n",
       "      <th>Afghanistan</th>\n",
       "      <td>185236</td>\n",
       "      <td>20845</td>\n",
       "      <td>4669</td>\n",
       "    </tr>\n",
       "    <tr>\n",
       "      <th>Albania</th>\n",
       "      <td>41253</td>\n",
       "      <td>25688</td>\n",
       "      <td>1629</td>\n",
       "    </tr>\n",
       "    <tr>\n",
       "      <th>Algeria</th>\n",
       "      <td>240070</td>\n",
       "      <td>107345</td>\n",
       "      <td>23232</td>\n",
       "    </tr>\n",
       "    <tr>\n",
       "      <th>Andorra</th>\n",
       "      <td>41573</td>\n",
       "      <td>20751</td>\n",
       "      <td>2219</td>\n",
       "    </tr>\n",
       "    <tr>\n",
       "      <th>Angola</th>\n",
       "      <td>1892</td>\n",
       "      <td>506</td>\n",
       "      <td>131</td>\n",
       "    </tr>\n",
       "    <tr>\n",
       "      <th>...</th>\n",
       "      <td>...</td>\n",
       "      <td>...</td>\n",
       "      <td>...</td>\n",
       "    </tr>\n",
       "    <tr>\n",
       "      <th>West Bank and Gaza</th>\n",
       "      <td>19971</td>\n",
       "      <td>8798</td>\n",
       "      <td>113</td>\n",
       "    </tr>\n",
       "    <tr>\n",
       "      <th>Western Sahara</th>\n",
       "      <td>307</td>\n",
       "      <td>186</td>\n",
       "      <td>1</td>\n",
       "    </tr>\n",
       "    <tr>\n",
       "      <th>Yemen</th>\n",
       "      <td>2696</td>\n",
       "      <td>92</td>\n",
       "      <td>460</td>\n",
       "    </tr>\n",
       "    <tr>\n",
       "      <th>Zambia</th>\n",
       "      <td>15285</td>\n",
       "      <td>5281</td>\n",
       "      <td>215</td>\n",
       "    </tr>\n",
       "    <tr>\n",
       "      <th>Zimbabwe</th>\n",
       "      <td>1760</td>\n",
       "      <td>373</td>\n",
       "      <td>199</td>\n",
       "    </tr>\n",
       "  </tbody>\n",
       "</table>\n",
       "<p>188 rows × 3 columns</p>\n",
       "</div>"
      ],
      "text/plain": [
       "                    Confirmed  Recovered  Deaths\n",
       "Country                                         \n",
       "Afghanistan            185236      20845    4669\n",
       "Albania                 41253      25688    1629\n",
       "Algeria                240070     107345   23232\n",
       "Andorra                 41573      20751    2219\n",
       "Angola                   1892        506     131\n",
       "...                       ...        ...     ...\n",
       "West Bank and Gaza      19971       8798     113\n",
       "Western Sahara            307        186       1\n",
       "Yemen                    2696         92     460\n",
       "Zambia                  15285       5281     215\n",
       "Zimbabwe                 1760        373     199\n",
       "\n",
       "[188 rows x 3 columns]"
      ]
     },
     "execution_count": 79,
     "metadata": {},
     "output_type": "execute_result"
    }
   ],
   "source": [
    "dt"
   ]
  },
  {
   "cell_type": "code",
   "execution_count": 80,
   "metadata": {},
   "outputs": [],
   "source": [
    "covid_dt=dt.reset_index()"
   ]
  },
  {
   "cell_type": "code",
   "execution_count": 81,
   "metadata": {},
   "outputs": [
    {
     "data": {
      "text/html": [
       "<div>\n",
       "<style scoped>\n",
       "    .dataframe tbody tr th:only-of-type {\n",
       "        vertical-align: middle;\n",
       "    }\n",
       "\n",
       "    .dataframe tbody tr th {\n",
       "        vertical-align: top;\n",
       "    }\n",
       "\n",
       "    .dataframe thead th {\n",
       "        text-align: right;\n",
       "    }\n",
       "</style>\n",
       "<table border=\"1\" class=\"dataframe\">\n",
       "  <thead>\n",
       "    <tr style=\"text-align: right;\">\n",
       "      <th></th>\n",
       "      <th>Country</th>\n",
       "      <th>Confirmed</th>\n",
       "      <th>Recovered</th>\n",
       "      <th>Deaths</th>\n",
       "    </tr>\n",
       "  </thead>\n",
       "  <tbody>\n",
       "    <tr>\n",
       "      <th>0</th>\n",
       "      <td>Afghanistan</td>\n",
       "      <td>185236</td>\n",
       "      <td>20845</td>\n",
       "      <td>4669</td>\n",
       "    </tr>\n",
       "    <tr>\n",
       "      <th>1</th>\n",
       "      <td>Albania</td>\n",
       "      <td>41253</td>\n",
       "      <td>25688</td>\n",
       "      <td>1629</td>\n",
       "    </tr>\n",
       "    <tr>\n",
       "      <th>2</th>\n",
       "      <td>Algeria</td>\n",
       "      <td>240070</td>\n",
       "      <td>107345</td>\n",
       "      <td>23232</td>\n",
       "    </tr>\n",
       "    <tr>\n",
       "      <th>3</th>\n",
       "      <td>Andorra</td>\n",
       "      <td>41573</td>\n",
       "      <td>20751</td>\n",
       "      <td>2219</td>\n",
       "    </tr>\n",
       "    <tr>\n",
       "      <th>4</th>\n",
       "      <td>Angola</td>\n",
       "      <td>1892</td>\n",
       "      <td>506</td>\n",
       "      <td>131</td>\n",
       "    </tr>\n",
       "    <tr>\n",
       "      <th>...</th>\n",
       "      <td>...</td>\n",
       "      <td>...</td>\n",
       "      <td>...</td>\n",
       "      <td>...</td>\n",
       "    </tr>\n",
       "    <tr>\n",
       "      <th>183</th>\n",
       "      <td>West Bank and Gaza</td>\n",
       "      <td>19971</td>\n",
       "      <td>8798</td>\n",
       "      <td>113</td>\n",
       "    </tr>\n",
       "    <tr>\n",
       "      <th>184</th>\n",
       "      <td>Western Sahara</td>\n",
       "      <td>307</td>\n",
       "      <td>186</td>\n",
       "      <td>1</td>\n",
       "    </tr>\n",
       "    <tr>\n",
       "      <th>185</th>\n",
       "      <td>Yemen</td>\n",
       "      <td>2696</td>\n",
       "      <td>92</td>\n",
       "      <td>460</td>\n",
       "    </tr>\n",
       "    <tr>\n",
       "      <th>186</th>\n",
       "      <td>Zambia</td>\n",
       "      <td>15285</td>\n",
       "      <td>5281</td>\n",
       "      <td>215</td>\n",
       "    </tr>\n",
       "    <tr>\n",
       "      <th>187</th>\n",
       "      <td>Zimbabwe</td>\n",
       "      <td>1760</td>\n",
       "      <td>373</td>\n",
       "      <td>199</td>\n",
       "    </tr>\n",
       "  </tbody>\n",
       "</table>\n",
       "<p>188 rows × 4 columns</p>\n",
       "</div>"
      ],
      "text/plain": [
       "                Country  Confirmed  Recovered  Deaths\n",
       "0           Afghanistan     185236      20845    4669\n",
       "1               Albania      41253      25688    1629\n",
       "2               Algeria     240070     107345   23232\n",
       "3               Andorra      41573      20751    2219\n",
       "4                Angola       1892        506     131\n",
       "..                  ...        ...        ...     ...\n",
       "183  West Bank and Gaza      19971       8798     113\n",
       "184      Western Sahara        307        186       1\n",
       "185               Yemen       2696         92     460\n",
       "186              Zambia      15285       5281     215\n",
       "187            Zimbabwe       1760        373     199\n",
       "\n",
       "[188 rows x 4 columns]"
      ]
     },
     "execution_count": 81,
     "metadata": {},
     "output_type": "execute_result"
    }
   ],
   "source": [
    "covid_dt"
   ]
  },
  {
   "cell_type": "code",
   "execution_count": 82,
   "metadata": {},
   "outputs": [
    {
     "data": {
      "text/plain": [
       "(array([  0,   1,   2,   3,   4,   5,   6,   7,   8,   9,  10,  11,  12,\n",
       "         13,  14,  15,  16,  17,  18,  19,  20,  21,  22,  23,  24,  25,\n",
       "         26,  27,  28,  29,  30,  31,  32,  33,  34,  35,  36,  37,  38,\n",
       "         39,  40,  41,  42,  43,  44,  45,  46,  47,  48,  49,  50,  51,\n",
       "         52,  53,  54,  55,  56,  57,  58,  59,  60,  61,  62,  63,  64,\n",
       "         65,  66,  67,  68,  69,  70,  71,  72,  73,  74,  75,  76,  77,\n",
       "         78,  79,  80,  81,  82,  83,  84,  85,  86,  87,  88,  89,  90,\n",
       "         91,  92,  93,  94,  95,  96,  97,  98,  99, 100, 101, 102, 103,\n",
       "        104, 105, 106, 107, 108, 109, 110, 111, 112, 113, 114, 115, 116,\n",
       "        117, 118, 119, 120, 121, 122, 123, 124, 125, 126, 127, 128, 129,\n",
       "        130, 131, 132, 133, 134, 135, 136, 137, 138, 139, 140, 141, 142,\n",
       "        143, 144, 145, 146, 147, 148, 149, 150, 151, 152, 153, 154, 155,\n",
       "        156, 157, 158, 159, 160, 161, 162, 163, 164, 165, 166, 167, 168,\n",
       "        169, 170, 171, 172, 173, 174, 175, 176, 177, 178, 179, 180, 181,\n",
       "        182, 183, 184, 185, 186, 187]),\n",
       " <a list of 188 Text major ticklabel objects>)"
      ]
     },
     "execution_count": 82,
     "metadata": {},
     "output_type": "execute_result"
    },
    {
     "data": {
      "image/png": "[encoded data removed]",
      "text/plain": [
       "<Figure size 3240x1080 with 1 Axes>"
      ]
     },
     "metadata": {
      "needs_background": "light"
     },
     "output_type": "display_data"
    }
   ],
   "source": [
    "plt.figure(figsize=(45,15))\n",
    "sns.barplot(x='Country',y='Confirmed',data=covid_dt)\n",
    "plt.xticks(rotation=90)"
   ]
  },
  {
   "cell_type": "code",
   "execution_count": 83,
   "metadata": {},
   "outputs": [
    {
     "data": {
      "text/plain": [
       "Date         0\n",
       "Country      0\n",
       "Confirmed    0\n",
       "Recovered    0\n",
       "Deaths       0\n",
       "dtype: int64"
      ]
     },
     "execution_count": 83,
     "metadata": {},
     "output_type": "execute_result"
    }
   ],
   "source": [
    "covid.isnull().sum()"
   ]
  },
  {
   "cell_type": "code",
   "execution_count": 84,
   "metadata": {},
   "outputs": [
    {
     "data": {
      "text/html": [
       "<div>\n",
       "<style scoped>\n",
       "    .dataframe tbody tr th:only-of-type {\n",
       "        vertical-align: middle;\n",
       "    }\n",
       "\n",
       "    .dataframe tbody tr th {\n",
       "        vertical-align: top;\n",
       "    }\n",
       "\n",
       "    .dataframe thead th {\n",
       "        text-align: right;\n",
       "    }\n",
       "</style>\n",
       "<table border=\"1\" class=\"dataframe\">\n",
       "  <thead>\n",
       "    <tr style=\"text-align: right;\">\n",
       "      <th></th>\n",
       "      <th>Confirmed</th>\n",
       "      <th>Recovered</th>\n",
       "      <th>Deaths</th>\n",
       "    </tr>\n",
       "  </thead>\n",
       "  <tbody>\n",
       "    <tr>\n",
       "      <th>count</th>\n",
       "      <td>1.880000e+02</td>\n",
       "      <td>1.880000e+02</td>\n",
       "      <td>1.880000e+02</td>\n",
       "    </tr>\n",
       "    <tr>\n",
       "      <th>mean</th>\n",
       "      <td>1.004140e+06</td>\n",
       "      <td>3.253070e+05</td>\n",
       "      <td>6.639381e+04</td>\n",
       "    </tr>\n",
       "    <tr>\n",
       "      <th>std</th>\n",
       "      <td>4.567753e+06</td>\n",
       "      <td>1.121162e+06</td>\n",
       "      <td>3.088152e+05</td>\n",
       "    </tr>\n",
       "    <tr>\n",
       "      <th>min</th>\n",
       "      <td>1.900000e+01</td>\n",
       "      <td>0.000000e+00</td>\n",
       "      <td>0.000000e+00</td>\n",
       "    </tr>\n",
       "    <tr>\n",
       "      <th>25%</th>\n",
       "      <td>7.594250e+03</td>\n",
       "      <td>2.169500e+03</td>\n",
       "      <td>1.582500e+02</td>\n",
       "    </tr>\n",
       "    <tr>\n",
       "      <th>50%</th>\n",
       "      <td>4.642850e+04</td>\n",
       "      <td>1.776400e+04</td>\n",
       "      <td>8.435000e+02</td>\n",
       "    </tr>\n",
       "    <tr>\n",
       "      <th>75%</th>\n",
       "      <td>3.891915e+05</td>\n",
       "      <td>1.076598e+05</td>\n",
       "      <td>8.738750e+03</td>\n",
       "    </tr>\n",
       "    <tr>\n",
       "      <th>max</th>\n",
       "      <td>5.709877e+07</td>\n",
       "      <td>8.428678e+06</td>\n",
       "      <td>3.221969e+06</td>\n",
       "    </tr>\n",
       "  </tbody>\n",
       "</table>\n",
       "</div>"
      ],
      "text/plain": [
       "          Confirmed     Recovered        Deaths\n",
       "count  1.880000e+02  1.880000e+02  1.880000e+02\n",
       "mean   1.004140e+06  3.253070e+05  6.639381e+04\n",
       "std    4.567753e+06  1.121162e+06  3.088152e+05\n",
       "min    1.900000e+01  0.000000e+00  0.000000e+00\n",
       "25%    7.594250e+03  2.169500e+03  1.582500e+02\n",
       "50%    4.642850e+04  1.776400e+04  8.435000e+02\n",
       "75%    3.891915e+05  1.076598e+05  8.738750e+03\n",
       "max    5.709877e+07  8.428678e+06  3.221969e+06"
      ]
     },
     "execution_count": 84,
     "metadata": {},
     "output_type": "execute_result"
    }
   ],
   "source": [
    "covid_dt.describe()"
   ]
  },
  {
   "cell_type": "code",
   "execution_count": 85,
   "metadata": {},
   "outputs": [
    {
     "data": {
      "text/plain": [
       "Confirmed    10.303690\n",
       "Recovered     5.019751\n",
       "Deaths        7.399787\n",
       "dtype: float64"
      ]
     },
     "execution_count": 85,
     "metadata": {},
     "output_type": "execute_result"
    }
   ],
   "source": [
    "covid_dt.skew()"
   ]
  },
  {
   "cell_type": "markdown",
   "metadata": {},
   "source": [
    "Label Encoder # For Country"
   ]
  },
  {
   "cell_type": "code",
   "execution_count": 86,
   "metadata": {},
   "outputs": [],
   "source": [
    "from sklearn.preprocessing import LabelEncoder\n",
    "le=LabelEncoder()\n",
    "import warnings\n",
    "warnings.filterwarnings('ignore')"
   ]
  },
  {
   "cell_type": "code",
   "execution_count": 87,
   "metadata": {},
   "outputs": [],
   "source": [
    "covid_dt['Country']=le.fit_transform(covid_dt['Country'].values.reshape(-1,1))"
   ]
  },
  {
   "cell_type": "code",
   "execution_count": 88,
   "metadata": {},
   "outputs": [
    {
     "data": {
      "text/html": [
       "<div>\n",
       "<style scoped>\n",
       "    .dataframe tbody tr th:only-of-type {\n",
       "        vertical-align: middle;\n",
       "    }\n",
       "\n",
       "    .dataframe tbody tr th {\n",
       "        vertical-align: top;\n",
       "    }\n",
       "\n",
       "    .dataframe thead th {\n",
       "        text-align: right;\n",
       "    }\n",
       "</style>\n",
       "<table border=\"1\" class=\"dataframe\">\n",
       "  <thead>\n",
       "    <tr style=\"text-align: right;\">\n",
       "      <th></th>\n",
       "      <th>Country</th>\n",
       "      <th>Confirmed</th>\n",
       "      <th>Recovered</th>\n",
       "      <th>Deaths</th>\n",
       "    </tr>\n",
       "  </thead>\n",
       "  <tbody>\n",
       "    <tr>\n",
       "      <th>0</th>\n",
       "      <td>0</td>\n",
       "      <td>185236</td>\n",
       "      <td>20845</td>\n",
       "      <td>4669</td>\n",
       "    </tr>\n",
       "    <tr>\n",
       "      <th>1</th>\n",
       "      <td>1</td>\n",
       "      <td>41253</td>\n",
       "      <td>25688</td>\n",
       "      <td>1629</td>\n",
       "    </tr>\n",
       "    <tr>\n",
       "      <th>2</th>\n",
       "      <td>2</td>\n",
       "      <td>240070</td>\n",
       "      <td>107345</td>\n",
       "      <td>23232</td>\n",
       "    </tr>\n",
       "    <tr>\n",
       "      <th>3</th>\n",
       "      <td>3</td>\n",
       "      <td>41573</td>\n",
       "      <td>20751</td>\n",
       "      <td>2219</td>\n",
       "    </tr>\n",
       "    <tr>\n",
       "      <th>4</th>\n",
       "      <td>4</td>\n",
       "      <td>1892</td>\n",
       "      <td>506</td>\n",
       "      <td>131</td>\n",
       "    </tr>\n",
       "    <tr>\n",
       "      <th>...</th>\n",
       "      <td>...</td>\n",
       "      <td>...</td>\n",
       "      <td>...</td>\n",
       "      <td>...</td>\n",
       "    </tr>\n",
       "    <tr>\n",
       "      <th>183</th>\n",
       "      <td>183</td>\n",
       "      <td>19971</td>\n",
       "      <td>8798</td>\n",
       "      <td>113</td>\n",
       "    </tr>\n",
       "    <tr>\n",
       "      <th>184</th>\n",
       "      <td>184</td>\n",
       "      <td>307</td>\n",
       "      <td>186</td>\n",
       "      <td>1</td>\n",
       "    </tr>\n",
       "    <tr>\n",
       "      <th>185</th>\n",
       "      <td>185</td>\n",
       "      <td>2696</td>\n",
       "      <td>92</td>\n",
       "      <td>460</td>\n",
       "    </tr>\n",
       "    <tr>\n",
       "      <th>186</th>\n",
       "      <td>186</td>\n",
       "      <td>15285</td>\n",
       "      <td>5281</td>\n",
       "      <td>215</td>\n",
       "    </tr>\n",
       "    <tr>\n",
       "      <th>187</th>\n",
       "      <td>187</td>\n",
       "      <td>1760</td>\n",
       "      <td>373</td>\n",
       "      <td>199</td>\n",
       "    </tr>\n",
       "  </tbody>\n",
       "</table>\n",
       "<p>188 rows × 4 columns</p>\n",
       "</div>"
      ],
      "text/plain": [
       "     Country  Confirmed  Recovered  Deaths\n",
       "0          0     185236      20845    4669\n",
       "1          1      41253      25688    1629\n",
       "2          2     240070     107345   23232\n",
       "3          3      41573      20751    2219\n",
       "4          4       1892        506     131\n",
       "..       ...        ...        ...     ...\n",
       "183      183      19971       8798     113\n",
       "184      184        307        186       1\n",
       "185      185       2696         92     460\n",
       "186      186      15285       5281     215\n",
       "187      187       1760        373     199\n",
       "\n",
       "[188 rows x 4 columns]"
      ]
     },
     "execution_count": 88,
     "metadata": {},
     "output_type": "execute_result"
    }
   ],
   "source": [
    "covid_dt"
   ]
  },
  {
   "cell_type": "code",
   "execution_count": 89,
   "metadata": {},
   "outputs": [
    {
     "data": {
      "text/plain": [
       "<matplotlib.axes._subplots.AxesSubplot at 0x129857f67c0>"
      ]
     },
     "execution_count": 89,
     "metadata": {},
     "output_type": "execute_result"
    },
    {
     "data": {
      "image/png": "[encoded data removed]",
      "text/plain": [
       "<Figure size 432x288 with 1 Axes>"
      ]
     },
     "metadata": {
      "needs_background": "light"
     },
     "output_type": "display_data"
    }
   ],
   "source": [
    "sns.distplot(covid_dt['Confirmed'])"
   ]
  },
  {
   "cell_type": "code",
   "execution_count": 90,
   "metadata": {},
   "outputs": [
    {
     "data": {
      "text/plain": [
       "<matplotlib.axes._subplots.AxesSubplot at 0x12985814520>"
      ]
     },
     "execution_count": 90,
     "metadata": {},
     "output_type": "execute_result"
    },
    {
     "data": {
      "image/png": "[encoded data removed]",
      "text/plain": [
       "<Figure size 432x288 with 1 Axes>"
      ]
     },
     "metadata": {
      "needs_background": "light"
     },
     "output_type": "display_data"
    }
   ],
   "source": [
    "sns.distplot(covid_dt[\"Deaths\"])"
   ]
  },
  {
   "cell_type": "code",
   "execution_count": 91,
   "metadata": {},
   "outputs": [],
   "source": [
    "# for removing skewness\n",
    "# Using Log1 transform"
   ]
  },
  {
   "cell_type": "code",
   "execution_count": 92,
   "metadata": {},
   "outputs": [],
   "source": [
    "covid_dt['Confirmed']=np.log1p(covid_dt['Confirmed'])"
   ]
  },
  {
   "cell_type": "code",
   "execution_count": 93,
   "metadata": {},
   "outputs": [
    {
     "data": {
      "text/plain": [
       "<matplotlib.axes._subplots.AxesSubplot at 0x12985974a00>"
      ]
     },
     "execution_count": 93,
     "metadata": {},
     "output_type": "execute_result"
    },
    {
     "data": {
      "image/png": "[encoded data removed]",
      "text/plain": [
       "<Figure size 432x288 with 1 Axes>"
      ]
     },
     "metadata": {
      "needs_background": "light"
     },
     "output_type": "display_data"
    }
   ],
   "source": [
    "sns.distplot(covid_dt['Confirmed'])"
   ]
  },
  {
   "cell_type": "code",
   "execution_count": 94,
   "metadata": {},
   "outputs": [],
   "source": [
    "covid_dt['Recovered']=np.log1p(covid_dt['Recovered'])"
   ]
  },
  {
   "cell_type": "code",
   "execution_count": 95,
   "metadata": {},
   "outputs": [
    {
     "data": {
      "text/plain": [
       "<matplotlib.axes._subplots.AxesSubplot at 0x12985181f40>"
      ]
     },
     "execution_count": 95,
     "metadata": {},
     "output_type": "execute_result"
    },
    {
     "data": {
      "image/png": "[encoded data removed]",
      "text/plain": [
       "<Figure size 432x288 with 1 Axes>"
      ]
     },
     "metadata": {
      "needs_background": "light"
     },
     "output_type": "display_data"
    }
   ],
   "source": [
    "sns.distplot(covid_dt['Recovered'])"
   ]
  },
  {
   "cell_type": "code",
   "execution_count": 96,
   "metadata": {},
   "outputs": [],
   "source": [
    "covid_dt['Deaths']=np.log1p(covid_dt['Deaths'])"
   ]
  },
  {
   "cell_type": "code",
   "execution_count": 97,
   "metadata": {},
   "outputs": [
    {
     "data": {
      "text/plain": [
       "<matplotlib.axes._subplots.AxesSubplot at 0x129850a4880>"
      ]
     },
     "execution_count": 97,
     "metadata": {},
     "output_type": "execute_result"
    },
    {
     "data": {
      "image/png": "[encoded data removed]",
      "text/plain": [
       "<Figure size 432x288 with 1 Axes>"
      ]
     },
     "metadata": {
      "needs_background": "light"
     },
     "output_type": "display_data"
    }
   ],
   "source": [
    "sns.distplot(covid_dt['Deaths'])"
   ]
  },
  {
   "cell_type": "code",
   "execution_count": 98,
   "metadata": {},
   "outputs": [
    {
     "data": {
      "text/plain": [
       "<matplotlib.axes._subplots.AxesSubplot at 0x12985aba520>"
      ]
     },
     "execution_count": 98,
     "metadata": {},
     "output_type": "execute_result"
    },
    {
     "data": {
      "image/png": "[encoded data removed]",
      "text/plain": [
       "<Figure size 432x288 with 1 Axes>"
      ]
     },
     "metadata": {
      "needs_background": "light"
     },
     "output_type": "display_data"
    }
   ],
   "source": [
    "sns.boxplot(covid_dt['Recovered'])"
   ]
  },
  {
   "cell_type": "code",
   "execution_count": 99,
   "metadata": {},
   "outputs": [
    {
     "data": {
      "text/plain": [
       "<matplotlib.axes._subplots.AxesSubplot at 0x12985b11d90>"
      ]
     },
     "execution_count": 99,
     "metadata": {},
     "output_type": "execute_result"
    },
    {
     "data": {
      "image/png": "[encoded data removed]",
      "text/plain": [
       "<Figure size 432x288 with 1 Axes>"
      ]
     },
     "metadata": {
      "needs_background": "light"
     },
     "output_type": "display_data"
    }
   ],
   "source": [
    "sns.boxplot(covid_dt['Confirmed'])"
   ]
  },
  {
   "cell_type": "code",
   "execution_count": 100,
   "metadata": {},
   "outputs": [
    {
     "data": {
      "text/plain": [
       "<matplotlib.axes._subplots.AxesSubplot at 0x12985b71130>"
      ]
     },
     "execution_count": 100,
     "metadata": {},
     "output_type": "execute_result"
    },
    {
     "data": {
      "image/png": "[encoded data removed]",
      "text/plain": [
       "<Figure size 432x288 with 1 Axes>"
      ]
     },
     "metadata": {
      "needs_background": "light"
     },
     "output_type": "display_data"
    }
   ],
   "source": [
    "sns.boxplot(covid_dt['Deaths'])"
   ]
  },
  {
   "cell_type": "code",
   "execution_count": 101,
   "metadata": {},
   "outputs": [],
   "source": [
    "# Outlieres are seen in Confirmed and Recovered Columns"
   ]
  },
  {
   "cell_type": "code",
   "execution_count": 102,
   "metadata": {},
   "outputs": [],
   "source": [
    "from scipy.stats import zscore"
   ]
  },
  {
   "cell_type": "code",
   "execution_count": 103,
   "metadata": {},
   "outputs": [],
   "source": [
    "z=np.abs(zscore(covid_dt))"
   ]
  },
  {
   "cell_type": "code",
   "execution_count": 104,
   "metadata": {},
   "outputs": [],
   "source": [
    "corona=covid_dt[(z<3).all(axis=1)]"
   ]
  },
  {
   "cell_type": "code",
   "execution_count": 105,
   "metadata": {},
   "outputs": [
    {
     "data": {
      "text/html": [
       "<div>\n",
       "<style scoped>\n",
       "    .dataframe tbody tr th:only-of-type {\n",
       "        vertical-align: middle;\n",
       "    }\n",
       "\n",
       "    .dataframe tbody tr th {\n",
       "        vertical-align: top;\n",
       "    }\n",
       "\n",
       "    .dataframe thead th {\n",
       "        text-align: right;\n",
       "    }\n",
       "</style>\n",
       "<table border=\"1\" class=\"dataframe\">\n",
       "  <thead>\n",
       "    <tr style=\"text-align: right;\">\n",
       "      <th></th>\n",
       "      <th>Country</th>\n",
       "      <th>Confirmed</th>\n",
       "      <th>Recovered</th>\n",
       "      <th>Deaths</th>\n",
       "    </tr>\n",
       "  </thead>\n",
       "  <tbody>\n",
       "    <tr>\n",
       "      <th>0</th>\n",
       "      <td>0</td>\n",
       "      <td>12.129391</td>\n",
       "      <td>9.944917</td>\n",
       "      <td>8.448914</td>\n",
       "    </tr>\n",
       "    <tr>\n",
       "      <th>1</th>\n",
       "      <td>1</td>\n",
       "      <td>10.627503</td>\n",
       "      <td>10.153818</td>\n",
       "      <td>7.396335</td>\n",
       "    </tr>\n",
       "    <tr>\n",
       "      <th>2</th>\n",
       "      <td>2</td>\n",
       "      <td>12.388690</td>\n",
       "      <td>11.583813</td>\n",
       "      <td>10.053329</td>\n",
       "    </tr>\n",
       "    <tr>\n",
       "      <th>3</th>\n",
       "      <td>3</td>\n",
       "      <td>10.635230</td>\n",
       "      <td>9.940398</td>\n",
       "      <td>7.705262</td>\n",
       "    </tr>\n",
       "    <tr>\n",
       "      <th>4</th>\n",
       "      <td>4</td>\n",
       "      <td>7.545918</td>\n",
       "      <td>6.228511</td>\n",
       "      <td>4.882802</td>\n",
       "    </tr>\n",
       "    <tr>\n",
       "      <th>...</th>\n",
       "      <td>...</td>\n",
       "      <td>...</td>\n",
       "      <td>...</td>\n",
       "      <td>...</td>\n",
       "    </tr>\n",
       "    <tr>\n",
       "      <th>183</th>\n",
       "      <td>183</td>\n",
       "      <td>9.902087</td>\n",
       "      <td>9.082393</td>\n",
       "      <td>4.736198</td>\n",
       "    </tr>\n",
       "    <tr>\n",
       "      <th>184</th>\n",
       "      <td>184</td>\n",
       "      <td>5.730100</td>\n",
       "      <td>5.231109</td>\n",
       "      <td>0.693147</td>\n",
       "    </tr>\n",
       "    <tr>\n",
       "      <th>185</th>\n",
       "      <td>185</td>\n",
       "      <td>7.899895</td>\n",
       "      <td>4.532599</td>\n",
       "      <td>6.133398</td>\n",
       "    </tr>\n",
       "    <tr>\n",
       "      <th>186</th>\n",
       "      <td>186</td>\n",
       "      <td>9.634693</td>\n",
       "      <td>8.572060</td>\n",
       "      <td>5.375278</td>\n",
       "    </tr>\n",
       "    <tr>\n",
       "      <th>187</th>\n",
       "      <td>187</td>\n",
       "      <td>7.473637</td>\n",
       "      <td>5.924256</td>\n",
       "      <td>5.298317</td>\n",
       "    </tr>\n",
       "  </tbody>\n",
       "</table>\n",
       "<p>186 rows × 4 columns</p>\n",
       "</div>"
      ],
      "text/plain": [
       "     Country  Confirmed  Recovered     Deaths\n",
       "0          0  12.129391   9.944917   8.448914\n",
       "1          1  10.627503  10.153818   7.396335\n",
       "2          2  12.388690  11.583813  10.053329\n",
       "3          3  10.635230   9.940398   7.705262\n",
       "4          4   7.545918   6.228511   4.882802\n",
       "..       ...        ...        ...        ...\n",
       "183      183   9.902087   9.082393   4.736198\n",
       "184      184   5.730100   5.231109   0.693147\n",
       "185      185   7.899895   4.532599   6.133398\n",
       "186      186   9.634693   8.572060   5.375278\n",
       "187      187   7.473637   5.924256   5.298317\n",
       "\n",
       "[186 rows x 4 columns]"
      ]
     },
     "execution_count": 105,
     "metadata": {},
     "output_type": "execute_result"
    }
   ],
   "source": [
    "corona"
   ]
  },
  {
   "cell_type": "code",
   "execution_count": 106,
   "metadata": {},
   "outputs": [
    {
     "data": {
      "text/plain": [
       "<matplotlib.axes._subplots.AxesSubplot at 0x12985bc5c40>"
      ]
     },
     "execution_count": 106,
     "metadata": {},
     "output_type": "execute_result"
    },
    {
     "data": {
      "image/png": "[encoded data removed]",
      "text/plain": [
       "<Figure size 432x288 with 1 Axes>"
      ]
     },
     "metadata": {
      "needs_background": "light"
     },
     "output_type": "display_data"
    }
   ],
   "source": [
    "sns.boxplot(corona['Confirmed'])"
   ]
  },
  {
   "cell_type": "code",
   "execution_count": 107,
   "metadata": {},
   "outputs": [
    {
     "data": {
      "text/plain": [
       "<matplotlib.axes._subplots.AxesSubplot at 0x12985c18f70>"
      ]
     },
     "execution_count": 107,
     "metadata": {},
     "output_type": "execute_result"
    },
    {
     "data": {
      "image/png": "[encoded data removed]",
      "text/plain": [
       "<Figure size 432x288 with 1 Axes>"
      ]
     },
     "metadata": {
      "needs_background": "light"
     },
     "output_type": "display_data"
    }
   ],
   "source": [
    "sns.boxplot(corona['Recovered'])"
   ]
  },
  {
   "cell_type": "code",
   "execution_count": 108,
   "metadata": {},
   "outputs": [
    {
     "data": {
      "text/html": [
       "<div>\n",
       "<style scoped>\n",
       "    .dataframe tbody tr th:only-of-type {\n",
       "        vertical-align: middle;\n",
       "    }\n",
       "\n",
       "    .dataframe tbody tr th {\n",
       "        vertical-align: top;\n",
       "    }\n",
       "\n",
       "    .dataframe thead th {\n",
       "        text-align: right;\n",
       "    }\n",
       "</style>\n",
       "<table border=\"1\" class=\"dataframe\">\n",
       "  <thead>\n",
       "    <tr style=\"text-align: right;\">\n",
       "      <th></th>\n",
       "      <th>Country</th>\n",
       "      <th>Confirmed</th>\n",
       "      <th>Recovered</th>\n",
       "      <th>Deaths</th>\n",
       "    </tr>\n",
       "  </thead>\n",
       "  <tbody>\n",
       "    <tr>\n",
       "      <th>Country</th>\n",
       "      <td>1.000000</td>\n",
       "      <td>-0.002984</td>\n",
       "      <td>-0.036532</td>\n",
       "      <td>-0.055618</td>\n",
       "    </tr>\n",
       "    <tr>\n",
       "      <th>Confirmed</th>\n",
       "      <td>-0.002984</td>\n",
       "      <td>1.000000</td>\n",
       "      <td>0.954126</td>\n",
       "      <td>0.902810</td>\n",
       "    </tr>\n",
       "    <tr>\n",
       "      <th>Recovered</th>\n",
       "      <td>-0.036532</td>\n",
       "      <td>0.954126</td>\n",
       "      <td>1.000000</td>\n",
       "      <td>0.844788</td>\n",
       "    </tr>\n",
       "    <tr>\n",
       "      <th>Deaths</th>\n",
       "      <td>-0.055618</td>\n",
       "      <td>0.902810</td>\n",
       "      <td>0.844788</td>\n",
       "      <td>1.000000</td>\n",
       "    </tr>\n",
       "  </tbody>\n",
       "</table>\n",
       "</div>"
      ],
      "text/plain": [
       "            Country  Confirmed  Recovered    Deaths\n",
       "Country    1.000000  -0.002984  -0.036532 -0.055618\n",
       "Confirmed -0.002984   1.000000   0.954126  0.902810\n",
       "Recovered -0.036532   0.954126   1.000000  0.844788\n",
       "Deaths    -0.055618   0.902810   0.844788  1.000000"
      ]
     },
     "execution_count": 108,
     "metadata": {},
     "output_type": "execute_result"
    }
   ],
   "source": [
    "corona.corr()"
   ]
  },
  {
   "cell_type": "code",
   "execution_count": 109,
   "metadata": {},
   "outputs": [
    {
     "data": {
      "text/plain": [
       "<matplotlib.axes._subplots.AxesSubplot at 0x12985c6f070>"
      ]
     },
     "execution_count": 109,
     "metadata": {},
     "output_type": "execute_result"
    },
    {
     "data": {
      "image/png": "[encoded data removed]",
      "text/plain": [
       "<Figure size 432x288 with 2 Axes>"
      ]
     },
     "metadata": {
      "needs_background": "light"
     },
     "output_type": "display_data"
    }
   ],
   "source": [
    "sns.heatmap(corona.corr())"
   ]
  },
  {
   "cell_type": "code",
   "execution_count": 110,
   "metadata": {},
   "outputs": [],
   "source": [
    "# Splitting Data to x and y"
   ]
  },
  {
   "cell_type": "code",
   "execution_count": 111,
   "metadata": {},
   "outputs": [],
   "source": [
    "x=corona.drop(['Deaths'],axis=1)"
   ]
  },
  {
   "cell_type": "code",
   "execution_count": 112,
   "metadata": {},
   "outputs": [
    {
     "data": {
      "text/html": [
       "<div>\n",
       "<style scoped>\n",
       "    .dataframe tbody tr th:only-of-type {\n",
       "        vertical-align: middle;\n",
       "    }\n",
       "\n",
       "    .dataframe tbody tr th {\n",
       "        vertical-align: top;\n",
       "    }\n",
       "\n",
       "    .dataframe thead th {\n",
       "        text-align: right;\n",
       "    }\n",
       "</style>\n",
       "<table border=\"1\" class=\"dataframe\">\n",
       "  <thead>\n",
       "    <tr style=\"text-align: right;\">\n",
       "      <th></th>\n",
       "      <th>Country</th>\n",
       "      <th>Confirmed</th>\n",
       "      <th>Recovered</th>\n",
       "    </tr>\n",
       "  </thead>\n",
       "  <tbody>\n",
       "    <tr>\n",
       "      <th>0</th>\n",
       "      <td>0</td>\n",
       "      <td>12.129391</td>\n",
       "      <td>9.944917</td>\n",
       "    </tr>\n",
       "    <tr>\n",
       "      <th>1</th>\n",
       "      <td>1</td>\n",
       "      <td>10.627503</td>\n",
       "      <td>10.153818</td>\n",
       "    </tr>\n",
       "    <tr>\n",
       "      <th>2</th>\n",
       "      <td>2</td>\n",
       "      <td>12.388690</td>\n",
       "      <td>11.583813</td>\n",
       "    </tr>\n",
       "    <tr>\n",
       "      <th>3</th>\n",
       "      <td>3</td>\n",
       "      <td>10.635230</td>\n",
       "      <td>9.940398</td>\n",
       "    </tr>\n",
       "    <tr>\n",
       "      <th>4</th>\n",
       "      <td>4</td>\n",
       "      <td>7.545918</td>\n",
       "      <td>6.228511</td>\n",
       "    </tr>\n",
       "    <tr>\n",
       "      <th>...</th>\n",
       "      <td>...</td>\n",
       "      <td>...</td>\n",
       "      <td>...</td>\n",
       "    </tr>\n",
       "    <tr>\n",
       "      <th>183</th>\n",
       "      <td>183</td>\n",
       "      <td>9.902087</td>\n",
       "      <td>9.082393</td>\n",
       "    </tr>\n",
       "    <tr>\n",
       "      <th>184</th>\n",
       "      <td>184</td>\n",
       "      <td>5.730100</td>\n",
       "      <td>5.231109</td>\n",
       "    </tr>\n",
       "    <tr>\n",
       "      <th>185</th>\n",
       "      <td>185</td>\n",
       "      <td>7.899895</td>\n",
       "      <td>4.532599</td>\n",
       "    </tr>\n",
       "    <tr>\n",
       "      <th>186</th>\n",
       "      <td>186</td>\n",
       "      <td>9.634693</td>\n",
       "      <td>8.572060</td>\n",
       "    </tr>\n",
       "    <tr>\n",
       "      <th>187</th>\n",
       "      <td>187</td>\n",
       "      <td>7.473637</td>\n",
       "      <td>5.924256</td>\n",
       "    </tr>\n",
       "  </tbody>\n",
       "</table>\n",
       "<p>186 rows × 3 columns</p>\n",
       "</div>"
      ],
      "text/plain": [
       "     Country  Confirmed  Recovered\n",
       "0          0  12.129391   9.944917\n",
       "1          1  10.627503  10.153818\n",
       "2          2  12.388690  11.583813\n",
       "3          3  10.635230   9.940398\n",
       "4          4   7.545918   6.228511\n",
       "..       ...        ...        ...\n",
       "183      183   9.902087   9.082393\n",
       "184      184   5.730100   5.231109\n",
       "185      185   7.899895   4.532599\n",
       "186      186   9.634693   8.572060\n",
       "187      187   7.473637   5.924256\n",
       "\n",
       "[186 rows x 3 columns]"
      ]
     },
     "execution_count": 112,
     "metadata": {},
     "output_type": "execute_result"
    }
   ],
   "source": [
    "x"
   ]
  },
  {
   "cell_type": "code",
   "execution_count": 113,
   "metadata": {},
   "outputs": [],
   "source": [
    "y=corona['Deaths']"
   ]
  },
  {
   "cell_type": "code",
   "execution_count": 114,
   "metadata": {},
   "outputs": [
    {
     "data": {
      "text/plain": [
       "0       8.448914\n",
       "1       7.396335\n",
       "2      10.053329\n",
       "3       7.705262\n",
       "4       4.882802\n",
       "         ...    \n",
       "183     4.736198\n",
       "184     0.693147\n",
       "185     6.133398\n",
       "186     5.375278\n",
       "187     5.298317\n",
       "Name: Deaths, Length: 186, dtype: float64"
      ]
     },
     "execution_count": 114,
     "metadata": {},
     "output_type": "execute_result"
    }
   ],
   "source": [
    "y"
   ]
  },
  {
   "cell_type": "code",
   "execution_count": 115,
   "metadata": {},
   "outputs": [],
   "source": [
    "from sklearn.preprocessing import StandardScaler\n"
   ]
  },
  {
   "cell_type": "code",
   "execution_count": 117,
   "metadata": {},
   "outputs": [],
   "source": [
    "sc=StandardScaler()"
   ]
  },
  {
   "cell_type": "code",
   "execution_count": 118,
   "metadata": {},
   "outputs": [],
   "source": [
    "x=sc.fit_transform(x)"
   ]
  },
  {
   "cell_type": "code",
   "execution_count": 119,
   "metadata": {},
   "outputs": [
    {
     "data": {
      "text/plain": [
       "array([[-1.71239909,  0.47409104,  0.08241143],\n",
       "       [-1.69406885, -0.10677394,  0.16152092],\n",
       "       [-1.67573861,  0.57437648,  0.7030513 ],\n",
       "       [-1.65740837, -0.10378551,  0.08069994],\n",
       "       [-1.63907813, -1.29859712, -1.32496957],\n",
       "       [-1.62074789, -1.43540686, -1.26627364],\n",
       "       [-1.60241765,  0.63737758,  0.5988174 ],\n",
       "       [-1.58408741,  0.39036763,  0.47845017],\n",
       "       [-1.56575718,  0.77766836,  1.03290019],\n",
       "       [-1.54742694,  1.0936461 ,  1.36403343],\n",
       "       [-1.5290967 ,  0.28561817,  0.51974759],\n",
       "       [-1.51076646, -0.99932521, -0.98203077],\n",
       "       [-1.49243622,  0.53122711,  0.66752686],\n",
       "       [-1.47410598,  0.92143659,  0.66355777],\n",
       "       [-1.45577574, -0.95823724, -0.788403  ],\n",
       "       [-1.4374455 ,  1.05673403,  0.9987829 ],\n",
       "       [-1.41911527,  1.47763277,  1.3467143 ],\n",
       "       [-1.40078503, -1.58702005, -1.35609131],\n",
       "       [-1.38245479, -0.80900858, -0.76132318],\n",
       "       [-1.36412455, -1.73721764, -1.65875182],\n",
       "       [-1.34579431,  0.2679149 , -0.1618156 ],\n",
       "       [-1.32746407,  0.20620598,  0.34570062],\n",
       "       [-1.30913383, -1.50400497, -1.43316686],\n",
       "       [-1.29080359,  1.86194251,  1.91962726],\n",
       "       [-1.27247335, -0.67769238, -0.34697508],\n",
       "       [-1.25414312,  0.16248938,  0.02090708],\n",
       "       [-1.23581288, -0.14978567,  0.13114657],\n",
       "       [-1.21748264, -0.78315951, -0.74774371],\n",
       "       [-1.1991524 , -1.62075058, -1.46638873],\n",
       "       [-1.18082216, -0.70572031, -0.81737386],\n",
       "       [-1.16249192, -0.73996646, -0.39628659],\n",
       "       [-1.14416168,  0.2827764 ,  0.38549215],\n",
       "       [-1.12583144,  1.53770375,  1.62035009],\n",
       "       [-1.1075012 , -0.76505248, -1.34569356],\n",
       "       [-1.08917097, -0.61287489, -0.64793772],\n",
       "       [-1.07084073,  1.23438387,  1.32802692],\n",
       "       [-1.05251049,  1.97044259,  2.27279633],\n",
       "       [-1.03418025,  0.83096944,  0.68704372],\n",
       "       [-1.01585001, -1.71500542, -1.82888684],\n",
       "       [-0.99751977, -0.56160826, -0.74806919],\n",
       "       [-0.97918953, -0.08684921, -0.39461833],\n",
       "       [-0.96085929, -0.09579378,  0.00365944],\n",
       "       [-0.94252906,  0.10578731,  0.22262264],\n",
       "       [-0.92419882,  0.28285857,  0.51058178],\n",
       "       [-0.90586858,  0.11594462,  0.33406684],\n",
       "       [-0.88753834, -0.06943853, -0.05839105],\n",
       "       [-0.8692081 ,  0.79713071,  0.86876699],\n",
       "       [-0.85087786,  0.87046913,  1.13421032],\n",
       "       [-0.83254762,  0.10817164,  0.3728139 ],\n",
       "       [-0.81421738,  0.00857822,  0.19632695],\n",
       "       [-0.79588714, -1.56281379, -1.26884107],\n",
       "       [-0.77755691,  0.78695797,  0.76147562],\n",
       "       [-0.75922667,  1.188294  ,  0.80258397],\n",
       "       [-0.74089643,  0.75559664,  0.66492184],\n",
       "       [-0.72256619, -0.16750526, -0.14412794],\n",
       "       [-0.70423595, -0.4099826 , -0.97101885],\n",
       "       [-0.68590571, -1.25717462, -1.04318512],\n",
       "       [-0.66757547,  0.21235479,  0.16945656],\n",
       "       [-0.64924523, -0.87513446, -0.84599496],\n",
       "       [-0.630915  , -0.6261816 , -0.60208623],\n",
       "       [-0.61258476, -1.5532243 , -1.34806783],\n",
       "       [-0.59425452,  0.61925925,  0.82699975],\n",
       "       [-0.57592428,  1.96495129,  1.89807183],\n",
       "       [-0.55759404, -0.21227376, -0.35808867],\n",
       "       [-0.5392638 , -1.62028093, -1.42822945],\n",
       "       [-0.52093356, -0.25390622, -0.11623602],\n",
       "       [-0.50260332,  1.97798232,  2.23315021],\n",
       "       [-0.48427308,  0.39684115,  0.22009267],\n",
       "       [-0.46594285,  0.39135154,  0.39156317],\n",
       "       [-0.44761261, -1.5298702 , -1.34490544],\n",
       "       [-0.42928237, -0.01856766, -0.49414061],\n",
       "       [-0.41095213,  0.14453595,  0.20388883],\n",
       "       [-0.39262189, -0.34457024, -1.11831134],\n",
       "       [-0.37429165, -0.95713717, -0.96375561],\n",
       "       [-0.35596141, -0.59253238, -1.30888362],\n",
       "       [-0.33763117, -1.73468567, -1.94352509],\n",
       "       [-0.31930093,  0.12950315, -0.29293045],\n",
       "       [-0.3009707 ,  0.36551149,  0.30290987],\n",
       "       [-0.28264046,  0.26643542,  0.58423651],\n",
       "       [-0.26431022,  1.50705246,  1.50977012],\n",
       "       [-0.24597998,  0.9268765 ,  0.71398334],\n",
       "       [-0.22764974,  1.80465982,  2.07062363],\n",
       "       [-0.2093195 ,  0.34332297,  0.58511417],\n",
       "       [-0.19098926,  1.12442856,  1.33655398],\n",
       "       [-0.17265902,  1.05083922,  1.21676933],\n",
       "       [-0.15432879,  2.0839073 ,  2.10534796],\n",
       "       [-0.13599855, -0.41492135, -0.5777497 ],\n",
       "       [-0.11766831,  0.98570011,  1.04919612],\n",
       "       [-0.09933807, -0.23794692,  0.02035106],\n",
       "       [-0.08100783,  0.50541714,  0.58277565],\n",
       "       [-0.06267759, -0.24679909, -0.24293233],\n",
       "       [-0.04434735,  1.06711838,  1.31236014],\n",
       "       [-0.02601711, -0.14144169,  0.0541515 ],\n",
       "       [-0.00768687,  0.74760015,  0.70746694],\n",
       "       [ 0.01064336, -0.09936412,  0.14152887],\n",
       "       [ 0.0289736 , -1.52727824, -1.42432535],\n",
       "       [ 0.04730384, -0.04406309,  0.02278297],\n",
       "       [ 0.06563408, -0.05286768, -0.13657115],\n",
       "       [ 0.10229456, -0.75999476, -0.66000108],\n",
       "       [ 0.1206248 , -1.12754033, -1.04247595],\n",
       "       [ 0.13895504, -0.90793007, -0.67702242],\n",
       "       [ 0.15728528,  0.13142211,  0.21585091],\n",
       "       [ 0.17561551,  0.53740411,  0.76829221],\n",
       "       [ 0.21227599, -0.62816174, -0.54494614],\n",
       "       [ 0.23060623, -1.25188774, -1.25804772],\n",
       "       [ 0.24893647,  0.71958813,  0.96877375],\n",
       "       [ 0.26726671, -0.26395132, -0.78515703],\n",
       "       [ 0.28559695, -0.27883034, -0.12351912],\n",
       "       [ 0.30392719, -0.27581419, -0.04812418],\n",
       "       [ 0.32225742, -1.23453831, -1.51371493],\n",
       "       [ 0.34058766, -0.41916629, -0.11669674],\n",
       "       [ 0.3589179 ,  1.24958669,  1.48608962],\n",
       "       [ 0.37724814,  0.52147625,  0.55021249],\n",
       "       [ 0.39557838, -0.88314613, -0.67594429],\n",
       "       [ 0.41390862, -1.0957964 , -1.21379189],\n",
       "       [ 0.43223886, -0.44270263, -0.21233369],\n",
       "       [ 0.4505691 ,  0.5749367 ,  0.63897825],\n",
       "       [ 0.46889934, -0.98056302, -1.02550374],\n",
       "       [ 0.48722957, -1.54156241, -1.36594941],\n",
       "       [ 0.50555981, -0.72796164, -0.96117457],\n",
       "       [ 0.52389005,  1.40855756, -0.13653876],\n",
       "       [ 0.54222029,  0.15611432,  0.46445682],\n",
       "       [ 0.56055053, -1.08248325, -0.80487457],\n",
       "       [ 0.57888077, -0.14458193,  0.09252106],\n",
       "       [ 0.59721101,  0.40329335,  0.29118134],\n",
       "       [ 0.61554125,  0.13150819,  0.30202594],\n",
       "       [ 0.63387149,  0.82892777,  0.33229617],\n",
       "       [ 0.65220172,  0.40280662,  0.33159122],\n",
       "       [ 0.67053196,  1.19271453,  1.11143711],\n",
       "       [ 0.6888622 ,  0.72446226,  0.73617745],\n",
       "       [ 0.70719244, -1.94054105, -1.70675194],\n",
       "       [ 0.72552268, -0.3283738 , -0.36024581],\n",
       "       [ 0.74385292,  1.48445173,  1.49985151],\n",
       "       [ 0.76218316,  0.84159685,  0.55379242],\n",
       "       [ 0.7805134 ,  0.9906577 ,  0.94190092],\n",
       "       [ 0.79884363,  1.23121484,  0.84791785],\n",
       "       [ 0.81717387,  1.08840592,  0.78174284],\n",
       "       [ 0.83550411,  0.95995975,  1.04446276],\n",
       "       [ 0.85383435,  1.90336768,  1.72294272],\n",
       "       [ 0.87216459, -0.57148814, -0.39098651],\n",
       "       [ 0.89049483, -1.63122985, -1.4483775 ],\n",
       "       [ 0.90882507, -1.5552026 , -1.20498465],\n",
       "       [ 0.92715531, -1.6346246 , -1.43416212],\n",
       "       [ 0.94548555, -0.2048698 , -0.38619764],\n",
       "       [ 0.96381578, -0.89196932, -1.71502974],\n",
       "       [ 0.98214602,  1.28954096,  1.34820698],\n",
       "       [ 1.00047626,  0.08942379,  0.2014955 ],\n",
       "       [ 1.0188065 ,  0.79444245,  0.71781629],\n",
       "       [ 1.03713674, -1.67085372, -1.49688132],\n",
       "       [ 1.05546698, -0.59180885, -0.61941846],\n",
       "       [ 1.07379722,  1.06684297,  0.94366169],\n",
       "       [ 1.09212746,  0.09694819,  0.24232362],\n",
       "       [ 1.1104577 ,  0.16418203,  0.0888776 ],\n",
       "       [ 1.12878793, -0.1505513 , -0.57146802],\n",
       "       [ 1.14711817,  0.81683185,  0.90336319],\n",
       "       [ 1.16544841, -0.7780737 , -2.05374579],\n",
       "       [ 1.18377865,  2.08372338,  2.21192642],\n",
       "       [ 1.20210889, -0.17314031, -0.0864938 ],\n",
       "       [ 1.22043913,  0.00435302, -0.39770396],\n",
       "       [ 1.23876937, -1.70728784, -1.44528611],\n",
       "       [ 1.25709961,  1.18095466,  0.77625524],\n",
       "       [ 1.27542984,  1.3343511 ,  1.59955292],\n",
       "       [ 1.29376008, -1.19915873, -1.05143742],\n",
       "       [ 1.31209032, -0.25872253, -0.03568867],\n",
       "       [ 1.33042056, -0.191418  , -0.27994043],\n",
       "       [ 1.3487508 , -0.43251437, -0.43023826],\n",
       "       [ 1.36708104,  0.44090642,  0.75819615],\n",
       "       [ 1.38541128, -1.54541077, -1.25183948],\n",
       "       [ 1.40374152, -0.69968053, -0.55802422],\n",
       "       [ 1.42207176, -0.78793099, -0.60031869],\n",
       "       [ 1.44040199, -0.01426306,  0.0927686 ],\n",
       "       [ 1.45873223,  1.81062922,  1.95083167],\n",
       "       [ 1.47706247,  2.69055466,  2.35542149],\n",
       "       [ 1.49539271, -0.84044122, -0.77071206],\n",
       "       [ 1.51372295,  0.90887604,  0.74156598],\n",
       "       [ 1.53205319,  1.00670152,  0.99926729],\n",
       "       [ 1.55038343,  1.98241513,  0.36384036],\n",
       "       [ 1.56871367, -0.15083487,  0.09942667],\n",
       "       [ 1.58704391,  0.25181081,  0.4940458 ],\n",
       "       [ 1.60537414, -0.32238487, -0.23625745],\n",
       "       [ 1.62370438, -0.41619203, -0.11694268],\n",
       "       [ 1.64203462, -0.38733361, -0.24422128],\n",
       "       [ 1.66036486, -2.00087671, -1.70267992],\n",
       "       [ 1.6786951 , -1.16169414, -1.96720118],\n",
       "       [ 1.69702534, -0.49074995, -0.43748146],\n",
       "       [ 1.71535558, -1.32655228, -1.4401892 ]])"
      ]
     },
     "execution_count": 119,
     "metadata": {},
     "output_type": "execute_result"
    }
   ],
   "source": [
    "x"
   ]
  },
  {
   "cell_type": "code",
   "execution_count": 120,
   "metadata": {},
   "outputs": [
    {
     "data": {
      "text/html": [
       "<div>\n",
       "<style scoped>\n",
       "    .dataframe tbody tr th:only-of-type {\n",
       "        vertical-align: middle;\n",
       "    }\n",
       "\n",
       "    .dataframe tbody tr th {\n",
       "        vertical-align: top;\n",
       "    }\n",
       "\n",
       "    .dataframe thead th {\n",
       "        text-align: right;\n",
       "    }\n",
       "</style>\n",
       "<table border=\"1\" class=\"dataframe\">\n",
       "  <thead>\n",
       "    <tr style=\"text-align: right;\">\n",
       "      <th></th>\n",
       "      <th>Country</th>\n",
       "      <th>Confirmed</th>\n",
       "      <th>Recovered</th>\n",
       "    </tr>\n",
       "  </thead>\n",
       "  <tbody>\n",
       "    <tr>\n",
       "      <th>0</th>\n",
       "      <td>-1.712399</td>\n",
       "      <td>0.474091</td>\n",
       "      <td>0.082411</td>\n",
       "    </tr>\n",
       "    <tr>\n",
       "      <th>1</th>\n",
       "      <td>-1.694069</td>\n",
       "      <td>-0.106774</td>\n",
       "      <td>0.161521</td>\n",
       "    </tr>\n",
       "    <tr>\n",
       "      <th>2</th>\n",
       "      <td>-1.675739</td>\n",
       "      <td>0.574376</td>\n",
       "      <td>0.703051</td>\n",
       "    </tr>\n",
       "    <tr>\n",
       "      <th>3</th>\n",
       "      <td>-1.657408</td>\n",
       "      <td>-0.103786</td>\n",
       "      <td>0.080700</td>\n",
       "    </tr>\n",
       "    <tr>\n",
       "      <th>4</th>\n",
       "      <td>-1.639078</td>\n",
       "      <td>-1.298597</td>\n",
       "      <td>-1.324970</td>\n",
       "    </tr>\n",
       "    <tr>\n",
       "      <th>...</th>\n",
       "      <td>...</td>\n",
       "      <td>...</td>\n",
       "      <td>...</td>\n",
       "    </tr>\n",
       "    <tr>\n",
       "      <th>181</th>\n",
       "      <td>1.642035</td>\n",
       "      <td>-0.387334</td>\n",
       "      <td>-0.244221</td>\n",
       "    </tr>\n",
       "    <tr>\n",
       "      <th>182</th>\n",
       "      <td>1.660365</td>\n",
       "      <td>-2.000877</td>\n",
       "      <td>-1.702680</td>\n",
       "    </tr>\n",
       "    <tr>\n",
       "      <th>183</th>\n",
       "      <td>1.678695</td>\n",
       "      <td>-1.161694</td>\n",
       "      <td>-1.967201</td>\n",
       "    </tr>\n",
       "    <tr>\n",
       "      <th>184</th>\n",
       "      <td>1.697025</td>\n",
       "      <td>-0.490750</td>\n",
       "      <td>-0.437481</td>\n",
       "    </tr>\n",
       "    <tr>\n",
       "      <th>185</th>\n",
       "      <td>1.715356</td>\n",
       "      <td>-1.326552</td>\n",
       "      <td>-1.440189</td>\n",
       "    </tr>\n",
       "  </tbody>\n",
       "</table>\n",
       "<p>186 rows × 3 columns</p>\n",
       "</div>"
      ],
      "text/plain": [
       "      Country  Confirmed  Recovered\n",
       "0   -1.712399   0.474091   0.082411\n",
       "1   -1.694069  -0.106774   0.161521\n",
       "2   -1.675739   0.574376   0.703051\n",
       "3   -1.657408  -0.103786   0.080700\n",
       "4   -1.639078  -1.298597  -1.324970\n",
       "..        ...        ...        ...\n",
       "181  1.642035  -0.387334  -0.244221\n",
       "182  1.660365  -2.000877  -1.702680\n",
       "183  1.678695  -1.161694  -1.967201\n",
       "184  1.697025  -0.490750  -0.437481\n",
       "185  1.715356  -1.326552  -1.440189\n",
       "\n",
       "[186 rows x 3 columns]"
      ]
     },
     "execution_count": 120,
     "metadata": {},
     "output_type": "execute_result"
    }
   ],
   "source": [
    "x=pd.DataFrame(data=x,columns=['Country','Confirmed','Recovered'])\n",
    "x"
   ]
  },
  {
   "cell_type": "code",
   "execution_count": 121,
   "metadata": {},
   "outputs": [],
   "source": [
    "from sklearn.model_selection import train_test_split\n",
    "from sklearn.linear_model import LinearRegression\n",
    "from sklearn.tree import DecisionTreeRegressor\n",
    "from sklearn.neighbors import KNeighborsRegressor\n",
    "from sklearn.ensemble import RandomForestRegressor,AdaBoostRegressor\n",
    "from sklearn.svm import SVR\n",
    "from sklearn.metrics import r2_score, mean_absolute_error, mean_squared_error"
   ]
  },
  {
   "cell_type": "code",
   "execution_count": 127,
   "metadata": {},
   "outputs": [
    {
     "name": "stdout",
     "output_type": "stream",
     "text": [
      "for the algorithm : LinearRegression()\n",
      "r2 score corresponding to random state 33 is:  0.8027377129358244\n",
      "r2 score corresponding to random state 34 is:  0.7459344292539452\n",
      "r2 score corresponding to random state 35 is:  0.733009664164088\n",
      "r2 score corresponding to random state 36 is:  0.6695621639379954\n",
      "r2 score corresponding to random state 37 is:  0.7437347798657565\n",
      "r2 score corresponding to random state 38 is:  0.7454474153550896\n",
      "r2 score corresponding to random state 39 is:  0.7090002205855683\n",
      "r2 score corresponding to random state 40 is:  0.8555377731566024\n",
      "r2 score corresponding to random state 41 is:  0.8202648106831263\n",
      "r2 score corresponding to random state 42 is:  0.6947377101008907\n",
      "r2 score corresponding to random state 43 is:  0.8534350948002145\n",
      "r2 score corresponding to random state 44 is:  0.7575129037452202\n",
      "r2 score corresponding to random state 45 is:  0.7700493117864582\n",
      "r2 score corresponding to random state 46 is:  0.7323924620119758\n",
      "r2 score corresponding to random state 47 is:  0.8285623590634548\n",
      "r2 score corresponding to random state 48 is:  0.7462672312444033\n",
      "r2 score corresponding to random state 49 is:  0.8016786415301329\n",
      "r2 score corresponding to random state 50 is:  0.7969913030764827\n",
      "r2 score corresponding to random state 51 is:  0.8547037076025276\n",
      "r2 score corresponding to random state 52 is:  0.7954354955868099\n",
      "r2 score corresponding to random state 53 is:  0.7726722202359019\n",
      "r2 score corresponding to random state 54 is:  0.7029093439233826\n",
      "r2 score corresponding to random state 55 is:  0.7304832814044667\n",
      "r2 score corresponding to random state 56 is:  0.7835614929986162\n",
      "r2 score corresponding to random state 57 is:  0.621181197128355\n",
      "r2 score corresponding to random state 58 is:  0.8116345615442379\n",
      "r2 score corresponding to random state 59 is:  0.7656498564193562\n",
      "r2 score corresponding to random state 60 is:  0.8015107669756157\n",
      "r2 score corresponding to random state 61 is:  0.6898126192044098\n",
      "r2 score corresponding to random state 62 is:  0.8280328270167776\n",
      "r2 score corresponding to random state 63 is:  0.7632385374292875\n",
      "r2 score corresponding to random state 64 is:  0.6455975557858415\n",
      "r2 score corresponding to random state 65 is:  0.7837358253715712\n",
      "r2 score corresponding to random state 66 is:  0.7634999816002146\n",
      "r2 score corresponding to random state 67 is:  0.8150790653095663\n",
      "r2 score corresponding to random state 68 is:  0.7020451246886799\n",
      "r2 score corresponding to random state 69 is:  0.8492728296122993\n",
      "r2 score corresponding to random state 70 is:  0.7109294841177238\n",
      "r2 score corresponding to random state 71 is:  0.6763587876230899\n",
      "r2 score corresponding to random state 72 is:  0.7407470537838401\n",
      "r2 score corresponding to random state 73 is:  0.794207653209489\n",
      "r2 score corresponding to random state 74 is:  0.593887751897249\n",
      "r2 score corresponding to random state 75 is:  0.877435792300403\n",
      "r2 score corresponding to random state 76 is:  0.776408319296915\n",
      "r2 score corresponding to random state 77 is:  0.7009745887667312\n",
      "r2 score corresponding to random state 78 is:  0.5367083605671519\n",
      "r2 score corresponding to random state 79 is:  0.8183549043528712\n",
      "r2 score corresponding to random state 80 is:  0.7405170345656986\n",
      "r2 score corresponding to random state 81 is:  0.7911956263310983\n",
      "r2 score corresponding to random state 82 is:  0.7519512432688683\n",
      "r2 score corresponding to random state 83 is:  0.7060854907037053\n",
      "r2 score corresponding to random state 84 is:  0.8001525456258431\n",
      "r2 score corresponding to random state 85 is:  0.7433237634693277\n",
      "r2 score corresponding to random state 86 is:  0.5878462895732133\n",
      "r2 score corresponding to random state 87 is:  0.7997116020359659\n",
      "r2 score corresponding to random state 88 is:  0.6923923718815399\n",
      "r2 score corresponding to random state 89 is:  0.8060189634213493\n",
      "r2 score corresponding to random state 90 is:  0.7551569419166657\n",
      "r2 score corresponding to random state 91 is:  0.720234630468495\n",
      "r2 score corresponding to random state 92 is:  0.7503648252547904\n",
      "r2 score corresponding to random state 93 is:  0.7545630124661714\n",
      "r2 score corresponding to random state 94 is:  0.8378645233537279\n",
      "r2 score corresponding to random state 95 is:  0.8003815252837495\n",
      "r2 score corresponding to random state 96 is:  0.7714264721930798\n",
      "r2 score corresponding to random state 97 is:  0.7353799855903753\n",
      "r2 score corresponding to random state 98 is:  0.8374583400757447\n",
      "r2 score corresponding to random state 99 is:  0.887514769548558\n",
      "r2 score corresponding to random state 100 is:  0.7956116601732961\n",
      "\n",
      "\n",
      "Max accuracy score corresponding to:  99 is:  0.887514769548558\n",
      "\n",
      "\n",
      "for the algorithm : DecisionTreeRegressor()\n",
      "r2 score corresponding to random state 33 is:  0.647960088831949\n",
      "r2 score corresponding to random state 34 is:  0.6498550950255497\n",
      "r2 score corresponding to random state 35 is:  0.513817966667665\n",
      "r2 score corresponding to random state 36 is:  0.5748077057552652\n",
      "r2 score corresponding to random state 37 is:  0.4461816665264341\n",
      "r2 score corresponding to random state 38 is:  0.5561010290781458\n",
      "r2 score corresponding to random state 39 is:  0.42175129996634153\n",
      "r2 score corresponding to random state 40 is:  0.7086259527155614\n",
      "r2 score corresponding to random state 41 is:  0.6732890716170652\n",
      "r2 score corresponding to random state 42 is:  0.6046007377338743\n",
      "r2 score corresponding to random state 43 is:  0.5380222386818613\n",
      "r2 score corresponding to random state 44 is:  0.5823978686321252\n",
      "r2 score corresponding to random state 45 is:  0.6492691290094645\n",
      "r2 score corresponding to random state 46 is:  0.491576735982183\n",
      "r2 score corresponding to random state 47 is:  0.6650512033589975\n",
      "r2 score corresponding to random state 48 is:  0.5216122829582557\n",
      "r2 score corresponding to random state 49 is:  0.5934539826168718\n",
      "r2 score corresponding to random state 50 is:  0.625402365220834\n",
      "r2 score corresponding to random state 51 is:  0.7451888952899777\n",
      "r2 score corresponding to random state 52 is:  0.789362695748475\n",
      "r2 score corresponding to random state 53 is:  0.45438224331214505\n",
      "r2 score corresponding to random state 54 is:  0.4772542026166471\n",
      "r2 score corresponding to random state 55 is:  0.4242553657212603\n",
      "r2 score corresponding to random state 56 is:  0.5650562489818127\n",
      "r2 score corresponding to random state 57 is:  0.5635886239872996\n",
      "r2 score corresponding to random state 58 is:  0.6468277426179526\n",
      "r2 score corresponding to random state 59 is:  0.5729475386622636\n",
      "r2 score corresponding to random state 60 is:  0.7038275681390522\n",
      "r2 score corresponding to random state 61 is:  0.5623155735506242\n",
      "r2 score corresponding to random state 62 is:  0.5374279035541047\n",
      "r2 score corresponding to random state 63 is:  0.6532401107368755\n",
      "r2 score corresponding to random state 64 is:  0.5115709471145842\n",
      "r2 score corresponding to random state 65 is:  0.5737387494402217\n",
      "r2 score corresponding to random state 66 is:  0.7549970876912281\n",
      "r2 score corresponding to random state 67 is:  0.7881792611714278\n",
      "r2 score corresponding to random state 68 is:  0.38955296986836174\n",
      "r2 score corresponding to random state 69 is:  0.7821584207537675\n",
      "r2 score corresponding to random state 70 is:  0.6355531416450593\n",
      "r2 score corresponding to random state 71 is:  0.4315964925087695\n",
      "r2 score corresponding to random state 72 is:  0.4919705871866038\n",
      "r2 score corresponding to random state 73 is:  0.6892025790714704\n",
      "r2 score corresponding to random state 74 is:  0.42773881450904616\n",
      "r2 score corresponding to random state 75 is:  0.7126362342092006\n",
      "r2 score corresponding to random state 76 is:  0.6735340002006638\n",
      "r2 score corresponding to random state 77 is:  0.6075507423389575\n",
      "r2 score corresponding to random state 78 is:  0.5976713081787814\n",
      "r2 score corresponding to random state 79 is:  0.5966770062721363\n",
      "r2 score corresponding to random state 80 is:  0.6075935950842969\n",
      "r2 score corresponding to random state 81 is:  0.6056683095625675\n",
      "r2 score corresponding to random state 82 is:  0.7102755845046771\n",
      "r2 score corresponding to random state 83 is:  0.6216821490688255\n",
      "r2 score corresponding to random state 84 is:  0.646819250768374\n",
      "r2 score corresponding to random state 85 is:  0.6110844812066349\n",
      "r2 score corresponding to random state 86 is:  0.5329982297313829\n",
      "r2 score corresponding to random state 87 is:  0.6453566045504644\n",
      "r2 score corresponding to random state 88 is:  0.6521014130411096\n",
      "r2 score corresponding to random state 89 is:  0.7289538794604604\n",
      "r2 score corresponding to random state 90 is:  0.46200212255517736\n",
      "r2 score corresponding to random state 91 is:  0.5542630255827525\n",
      "r2 score corresponding to random state 92 is:  0.7026461311180923\n",
      "r2 score corresponding to random state 93 is:  0.5749165081608878\n",
      "r2 score corresponding to random state 94 is:  0.6921925386764758\n",
      "r2 score corresponding to random state 95 is:  0.7842993055565312\n",
      "r2 score corresponding to random state 96 is:  0.6916424366883155\n",
      "r2 score corresponding to random state 97 is:  0.5116511302464076\n",
      "r2 score corresponding to random state 98 is:  0.6998544459527856\n",
      "r2 score corresponding to random state 99 is:  0.6705762493950157\n",
      "r2 score corresponding to random state 100 is:  0.6087839915555479\n",
      "\n",
      "\n",
      "Max accuracy score corresponding to:  52 is:  0.789362695748475\n",
      "\n",
      "\n",
      "for the algorithm : KNeighborsRegressor()\n",
      "r2 score corresponding to random state 33 is:  0.6723148618384747\n",
      "r2 score corresponding to random state 34 is:  0.6316030147029108\n",
      "r2 score corresponding to random state 35 is:  0.5469691713885154\n",
      "r2 score corresponding to random state 36 is:  0.49352733542949856\n",
      "r2 score corresponding to random state 37 is:  0.7031588901967711\n",
      "r2 score corresponding to random state 38 is:  0.589842398160094\n",
      "r2 score corresponding to random state 39 is:  0.5304554566982842\n",
      "r2 score corresponding to random state 40 is:  0.642285354716966\n",
      "r2 score corresponding to random state 41 is:  0.6167916459490811\n",
      "r2 score corresponding to random state 42 is:  0.5191618049510869\n",
      "r2 score corresponding to random state 43 is:  0.7564191468002686\n",
      "r2 score corresponding to random state 44 is:  0.5586882658597991\n",
      "r2 score corresponding to random state 45 is:  0.5523462542902886\n",
      "r2 score corresponding to random state 46 is:  0.6046315319946127\n",
      "r2 score corresponding to random state 47 is:  0.6301972114994812\n",
      "r2 score corresponding to random state 48 is:  0.49556950779157405\n",
      "r2 score corresponding to random state 49 is:  0.7589794151770837\n",
      "r2 score corresponding to random state 50 is:  0.7030765774525847\n",
      "r2 score corresponding to random state 51 is:  0.6329604114779697\n",
      "r2 score corresponding to random state 52 is:  0.6149817048193633\n",
      "r2 score corresponding to random state 53 is:  0.501641233796587\n",
      "r2 score corresponding to random state 54 is:  0.4459691366384637\n",
      "r2 score corresponding to random state 55 is:  0.6936489971064376\n",
      "r2 score corresponding to random state 56 is:  0.6383743042232866\n",
      "r2 score corresponding to random state 57 is:  0.5324073167764141\n",
      "r2 score corresponding to random state 58 is:  0.6480902559987762\n",
      "r2 score corresponding to random state 59 is:  0.45023187979001156\n",
      "r2 score corresponding to random state 60 is:  0.7850961637308617\n",
      "r2 score corresponding to random state 61 is:  0.48835946124110863\n",
      "r2 score corresponding to random state 62 is:  0.7173419414618191\n",
      "r2 score corresponding to random state 63 is:  0.5398825177821944\n",
      "r2 score corresponding to random state 64 is:  0.43573645780404324\n",
      "r2 score corresponding to random state 65 is:  0.7376602730730693\n",
      "r2 score corresponding to random state 66 is:  0.6474147374862214\n",
      "r2 score corresponding to random state 67 is:  0.7020962207653456\n",
      "r2 score corresponding to random state 68 is:  0.5997854784259492\n",
      "r2 score corresponding to random state 69 is:  0.6324930728762658\n",
      "r2 score corresponding to random state 70 is:  0.6611904853901259\n",
      "r2 score corresponding to random state 71 is:  0.6196653868375782\n",
      "r2 score corresponding to random state 72 is:  0.6438022558105667\n",
      "r2 score corresponding to random state 73 is:  0.7259543615147017\n",
      "r2 score corresponding to random state 74 is:  0.5666711963086423\n",
      "r2 score corresponding to random state 75 is:  0.8353365711529046\n",
      "r2 score corresponding to random state 76 is:  0.6745634235912847\n",
      "r2 score corresponding to random state 77 is:  0.6310031292761191\n",
      "r2 score corresponding to random state 78 is:  0.36565476925234175\n",
      "r2 score corresponding to random state 79 is:  0.5698358366467806\n",
      "r2 score corresponding to random state 80 is:  0.5323881193306572\n",
      "r2 score corresponding to random state 81 is:  0.4322878444837457\n",
      "r2 score corresponding to random state 82 is:  0.682049539258081\n",
      "r2 score corresponding to random state 83 is:  0.614073416608076\n",
      "r2 score corresponding to random state 84 is:  0.71654494957666\n",
      "r2 score corresponding to random state 85 is:  0.6332691328778175\n",
      "r2 score corresponding to random state 86 is:  0.4096807325565327\n",
      "r2 score corresponding to random state 87 is:  0.7686639681485434\n",
      "r2 score corresponding to random state 88 is:  0.5240353904855124\n",
      "r2 score corresponding to random state 89 is:  0.6682913267434178\n",
      "r2 score corresponding to random state 90 is:  0.5435449565423975\n",
      "r2 score corresponding to random state 91 is:  0.5539623546437652\n",
      "r2 score corresponding to random state 92 is:  0.6524012101395069\n",
      "r2 score corresponding to random state 93 is:  0.6333430354791333\n",
      "r2 score corresponding to random state 94 is:  0.6526524136738718\n",
      "r2 score corresponding to random state 95 is:  0.6214427356898877\n",
      "r2 score corresponding to random state 96 is:  0.726478523548234\n",
      "r2 score corresponding to random state 97 is:  0.5596172065810856\n",
      "r2 score corresponding to random state 98 is:  0.7181612342502328\n",
      "r2 score corresponding to random state 99 is:  0.8092478369359516\n",
      "r2 score corresponding to random state 100 is:  0.7091123644486512\n",
      "\n",
      "\n",
      "Max accuracy score corresponding to:  75 is:  0.8353365711529046\n",
      "\n",
      "\n",
      "for the algorithm : RandomForestRegressor()\n",
      "r2 score corresponding to random state 33 is:  0.7648380753987478\n",
      "r2 score corresponding to random state 34 is:  0.7438504570969336\n",
      "r2 score corresponding to random state 35 is:  0.6347617750504998\n",
      "r2 score corresponding to random state 36 is:  0.6171188922748791\n",
      "r2 score corresponding to random state 37 is:  0.7118464264113471\n",
      "r2 score corresponding to random state 38 is:  0.71021877122074\n",
      "r2 score corresponding to random state 39 is:  0.683372657638863\n",
      "r2 score corresponding to random state 40 is:  0.8465985152220716\n",
      "r2 score corresponding to random state 41 is:  0.7517996979917592\n",
      "r2 score corresponding to random state 42 is:  0.7214341985312542\n",
      "r2 score corresponding to random state 43 is:  0.7624048357878624\n",
      "r2 score corresponding to random state 44 is:  0.6805590358452581\n",
      "r2 score corresponding to random state 45 is:  0.7561063819570479\n",
      "r2 score corresponding to random state 46 is:  0.6428948651919026\n",
      "r2 score corresponding to random state 47 is:  0.7643912873651553\n",
      "r2 score corresponding to random state 48 is:  0.6677876249241987\n",
      "r2 score corresponding to random state 49 is:  0.7342911457946844\n",
      "r2 score corresponding to random state 50 is:  0.7628354504998529\n",
      "r2 score corresponding to random state 51 is:  0.7879192105883646\n",
      "r2 score corresponding to random state 52 is:  0.7515100990575687\n",
      "r2 score corresponding to random state 53 is:  0.6445601310328719\n",
      "r2 score corresponding to random state 54 is:  0.6831235556534946\n",
      "r2 score corresponding to random state 55 is:  0.6746165677335245\n",
      "r2 score corresponding to random state 56 is:  0.7577484396820053\n",
      "r2 score corresponding to random state 57 is:  0.6453799164255603\n",
      "r2 score corresponding to random state 58 is:  0.7467989931287966\n",
      "r2 score corresponding to random state 59 is:  0.6856109647183182\n",
      "r2 score corresponding to random state 60 is:  0.7633942342287554\n",
      "r2 score corresponding to random state 61 is:  0.6173315825510208\n",
      "r2 score corresponding to random state 62 is:  0.7543255391007195\n",
      "r2 score corresponding to random state 63 is:  0.7250611971885774\n",
      "r2 score corresponding to random state 64 is:  0.5548314933950147\n",
      "r2 score corresponding to random state 65 is:  0.7289190135299533\n",
      "r2 score corresponding to random state 66 is:  0.7081441627581778\n",
      "r2 score corresponding to random state 67 is:  0.7971946907130648\n",
      "r2 score corresponding to random state 68 is:  0.6008037894716924\n",
      "r2 score corresponding to random state 69 is:  0.8636697128476347\n",
      "r2 score corresponding to random state 70 is:  0.7322319251345721\n",
      "r2 score corresponding to random state 71 is:  0.606125916964886\n",
      "r2 score corresponding to random state 72 is:  0.7105453934808638\n",
      "r2 score corresponding to random state 73 is:  0.7415276367892865\n",
      "r2 score corresponding to random state 74 is:  0.5996631132072977\n",
      "r2 score corresponding to random state 75 is:  0.8542556498570828\n",
      "r2 score corresponding to random state 76 is:  0.7396681791162121\n",
      "r2 score corresponding to random state 77 is:  0.6713797555415117\n",
      "r2 score corresponding to random state 78 is:  0.6337329801748247\n",
      "r2 score corresponding to random state 79 is:  0.7239049445889923\n",
      "r2 score corresponding to random state 80 is:  0.669335393967527\n",
      "r2 score corresponding to random state 81 is:  0.701635867708388\n",
      "r2 score corresponding to random state 82 is:  0.7686533266195483\n",
      "r2 score corresponding to random state 83 is:  0.7231299214615721\n",
      "r2 score corresponding to random state 84 is:  0.8145758526795668\n",
      "r2 score corresponding to random state 85 is:  0.7392861543193174\n",
      "r2 score corresponding to random state 86 is:  0.5867648555263042\n",
      "r2 score corresponding to random state 87 is:  0.8026907494489876\n",
      "r2 score corresponding to random state 88 is:  0.6374618490807296\n",
      "r2 score corresponding to random state 89 is:  0.7541352723692563\n",
      "r2 score corresponding to random state 90 is:  0.7116252412794607\n",
      "r2 score corresponding to random state 91 is:  0.615051809914174\n",
      "r2 score corresponding to random state 92 is:  0.7510550871773242\n",
      "r2 score corresponding to random state 93 is:  0.7265514750931394\n",
      "r2 score corresponding to random state 94 is:  0.7964344827667696\n",
      "r2 score corresponding to random state 95 is:  0.7590200110605189\n",
      "r2 score corresponding to random state 96 is:  0.8052151545499089\n",
      "r2 score corresponding to random state 97 is:  0.593657889044545\n",
      "r2 score corresponding to random state 98 is:  0.8009422756082653\n",
      "r2 score corresponding to random state 99 is:  0.8645924880712236\n",
      "r2 score corresponding to random state 100 is:  0.6896917405711358\n",
      "\n",
      "\n",
      "Max accuracy score corresponding to:  99 is:  0.8645924880712236\n",
      "\n",
      "\n",
      "for the algorithm : AdaBoostRegressor()\n",
      "r2 score corresponding to random state 33 is:  0.7036741940743751\n",
      "r2 score corresponding to random state 34 is:  0.6740308665182473\n",
      "r2 score corresponding to random state 35 is:  0.6625335537051178\n",
      "r2 score corresponding to random state 36 is:  0.5829874266647561\n",
      "r2 score corresponding to random state 37 is:  0.6839425086693147\n",
      "r2 score corresponding to random state 38 is:  0.6173657228754239\n",
      "r2 score corresponding to random state 39 is:  0.6586600038649153\n",
      "r2 score corresponding to random state 40 is:  0.8197960900079986\n",
      "r2 score corresponding to random state 41 is:  0.7553911235216448\n",
      "r2 score corresponding to random state 42 is:  0.6629300214701168\n",
      "r2 score corresponding to random state 43 is:  0.758435716070658\n",
      "r2 score corresponding to random state 44 is:  0.6800283958218045\n",
      "r2 score corresponding to random state 45 is:  0.7622862777890564\n",
      "r2 score corresponding to random state 46 is:  0.587173031888705\n",
      "r2 score corresponding to random state 47 is:  0.7536539347876625\n",
      "r2 score corresponding to random state 48 is:  0.6157524305984752\n",
      "r2 score corresponding to random state 49 is:  0.7228954018192604\n",
      "r2 score corresponding to random state 50 is:  0.6758022617083301\n",
      "r2 score corresponding to random state 51 is:  0.7865744936868366\n",
      "r2 score corresponding to random state 52 is:  0.7033096337217847\n",
      "r2 score corresponding to random state 53 is:  0.6798520487003227\n",
      "r2 score corresponding to random state 54 is:  0.5946253597350208\n",
      "r2 score corresponding to random state 55 is:  0.5747861930448614\n",
      "r2 score corresponding to random state 56 is:  0.7561941397113823\n",
      "r2 score corresponding to random state 57 is:  0.5879171964438907\n",
      "r2 score corresponding to random state 58 is:  0.7682862062515644\n",
      "r2 score corresponding to random state 59 is:  0.7128729770718818\n",
      "r2 score corresponding to random state 60 is:  0.7000430768297342\n",
      "r2 score corresponding to random state 61 is:  0.5898518944174684\n",
      "r2 score corresponding to random state 62 is:  0.7586569924966045\n",
      "r2 score corresponding to random state 63 is:  0.683809728412778\n",
      "r2 score corresponding to random state 64 is:  0.4521387809491888\n",
      "r2 score corresponding to random state 65 is:  0.674936812679565\n",
      "r2 score corresponding to random state 66 is:  0.6668691093538962\n",
      "r2 score corresponding to random state 67 is:  0.7560864039256971\n",
      "r2 score corresponding to random state 68 is:  0.6829401158815982\n",
      "r2 score corresponding to random state 69 is:  0.7696961869104912\n",
      "r2 score corresponding to random state 70 is:  0.6685305753328945\n",
      "r2 score corresponding to random state 71 is:  0.5158124919560332\n",
      "r2 score corresponding to random state 72 is:  0.6195124719157286\n",
      "r2 score corresponding to random state 73 is:  0.6567053027819758\n",
      "r2 score corresponding to random state 74 is:  0.5696169778500167\n",
      "r2 score corresponding to random state 75 is:  0.7647502232527466\n",
      "r2 score corresponding to random state 76 is:  0.6981566888920809\n",
      "r2 score corresponding to random state 77 is:  0.6815358362739536\n",
      "r2 score corresponding to random state 78 is:  0.5199197972640686\n",
      "r2 score corresponding to random state 79 is:  0.7406907026101722\n",
      "r2 score corresponding to random state 80 is:  0.6431824297432367\n",
      "r2 score corresponding to random state 81 is:  0.6937090134403199\n",
      "r2 score corresponding to random state 82 is:  0.7113562755433366\n",
      "r2 score corresponding to random state 83 is:  0.6667918119034815\n",
      "r2 score corresponding to random state 84 is:  0.8193284632389961\n",
      "r2 score corresponding to random state 85 is:  0.6758069180850486\n",
      "r2 score corresponding to random state 86 is:  0.5449536471084406\n",
      "r2 score corresponding to random state 87 is:  0.75444147219257\n",
      "r2 score corresponding to random state 88 is:  0.6123234398494211\n",
      "r2 score corresponding to random state 89 is:  0.6776150841421467\n",
      "r2 score corresponding to random state 90 is:  0.7012073929444156\n",
      "r2 score corresponding to random state 91 is:  0.6064994190651813\n",
      "r2 score corresponding to random state 92 is:  0.6173899861598962\n",
      "r2 score corresponding to random state 93 is:  0.7153476150501636\n",
      "r2 score corresponding to random state 94 is:  0.6842340105445732\n",
      "r2 score corresponding to random state 95 is:  0.7134313892802348\n",
      "r2 score corresponding to random state 96 is:  0.7855946499594506\n",
      "r2 score corresponding to random state 97 is:  0.5969371638287968\n",
      "r2 score corresponding to random state 98 is:  0.7765531181697072\n",
      "r2 score corresponding to random state 99 is:  0.8048785993705247\n",
      "r2 score corresponding to random state 100 is:  0.6851491142754221\n",
      "\n",
      "\n",
      "Max accuracy score corresponding to:  40 is:  0.8197960900079986\n",
      "\n",
      "\n",
      "for the algorithm : SVR()\n",
      "r2 score corresponding to random state 33 is:  0.6737306621655201\n",
      "r2 score corresponding to random state 34 is:  0.6372117724954187\n",
      "r2 score corresponding to random state 35 is:  0.4499887175550108\n",
      "r2 score corresponding to random state 36 is:  0.3901550708280761\n",
      "r2 score corresponding to random state 37 is:  0.7586450936329874\n",
      "r2 score corresponding to random state 38 is:  0.5091849604014336\n",
      "r2 score corresponding to random state 39 is:  0.2711325320554061\n",
      "r2 score corresponding to random state 40 is:  0.67762541523868\n",
      "r2 score corresponding to random state 41 is:  0.24427109223857157\n",
      "r2 score corresponding to random state 42 is:  0.24934854714831634\n",
      "r2 score corresponding to random state 43 is:  0.532068180679209\n",
      "r2 score corresponding to random state 44 is:  0.49749323209125584\n",
      "r2 score corresponding to random state 45 is:  0.5024409575677704\n",
      "r2 score corresponding to random state 46 is:  0.621553913380801\n",
      "r2 score corresponding to random state 47 is:  0.46813912963534576\n",
      "r2 score corresponding to random state 48 is:  0.3242173746339785\n",
      "r2 score corresponding to random state 49 is:  0.5248420426678431\n",
      "r2 score corresponding to random state 50 is:  0.5197766213259554\n",
      "r2 score corresponding to random state 51 is:  0.2531780979255762\n",
      "r2 score corresponding to random state 52 is:  0.36704333952279156\n",
      "r2 score corresponding to random state 53 is:  0.42284758774860287\n",
      "r2 score corresponding to random state 54 is:  0.16237141322199722\n",
      "r2 score corresponding to random state 55 is:  0.5858489291787291\n",
      "r2 score corresponding to random state 56 is:  0.6192328323760078\n",
      "r2 score corresponding to random state 57 is:  0.49700617219755305\n",
      "r2 score corresponding to random state 58 is:  0.4015834989014093\n",
      "r2 score corresponding to random state 59 is:  0.43966669293998717\n",
      "r2 score corresponding to random state 60 is:  0.6676811969145138\n",
      "r2 score corresponding to random state 61 is:  0.3745073934512182\n",
      "r2 score corresponding to random state 62 is:  0.6558370757399676\n",
      "r2 score corresponding to random state 63 is:  0.18767171252322346\n",
      "r2 score corresponding to random state 64 is:  0.18278810727378858\n",
      "r2 score corresponding to random state 65 is:  0.6084270333730115\n",
      "r2 score corresponding to random state 66 is:  0.4960812717271219\n",
      "r2 score corresponding to random state 67 is:  0.43673699257958054\n",
      "r2 score corresponding to random state 68 is:  0.4069993579035128\n",
      "r2 score corresponding to random state 69 is:  0.4743423688325722\n",
      "r2 score corresponding to random state 70 is:  0.6156582024009869\n",
      "r2 score corresponding to random state 71 is:  0.5419344776528408\n",
      "r2 score corresponding to random state 72 is:  0.4215526401232459\n",
      "r2 score corresponding to random state 73 is:  0.6780703781862745\n",
      "r2 score corresponding to random state 74 is:  0.38309894010752976\n",
      "r2 score corresponding to random state 75 is:  0.5576539257117509\n",
      "r2 score corresponding to random state 76 is:  0.5815785255466009\n",
      "r2 score corresponding to random state 77 is:  0.2833492761029547\n",
      "r2 score corresponding to random state 78 is:  -0.19729331954660512\n",
      "r2 score corresponding to random state 79 is:  0.5459349682008355\n",
      "r2 score corresponding to random state 80 is:  0.24359563543860374\n",
      "r2 score corresponding to random state 81 is:  0.09079832595881965\n",
      "r2 score corresponding to random state 82 is:  0.5829057044994546\n",
      "r2 score corresponding to random state 83 is:  0.5706613721673421\n",
      "r2 score corresponding to random state 84 is:  0.6279934586027062\n",
      "r2 score corresponding to random state 85 is:  0.4323147924964287\n",
      "r2 score corresponding to random state 86 is:  0.3592073485444103\n",
      "r2 score corresponding to random state 87 is:  0.7424472347034232\n",
      "r2 score corresponding to random state 88 is:  0.4575270312914017\n",
      "r2 score corresponding to random state 89 is:  0.625550911039026\n",
      "r2 score corresponding to random state 90 is:  0.13815955047652517\n",
      "r2 score corresponding to random state 91 is:  0.6164128039843111\n",
      "r2 score corresponding to random state 92 is:  0.47333063238976614\n",
      "r2 score corresponding to random state 93 is:  0.4520633113182865\n",
      "r2 score corresponding to random state 94 is:  0.6101986230892593\n",
      "r2 score corresponding to random state 95 is:  0.20467264743442626\n",
      "r2 score corresponding to random state 96 is:  0.6524649511195573\n",
      "r2 score corresponding to random state 97 is:  0.43742660756285656\n",
      "r2 score corresponding to random state 98 is:  0.702508126248639\n",
      "r2 score corresponding to random state 99 is:  0.4218789045245035\n",
      "r2 score corresponding to random state 100 is:  0.1855242616533277\n",
      "\n",
      "\n",
      "Max accuracy score corresponding to:  37 is:  0.7586450936329874\n",
      "\n",
      "\n"
     ]
    }
   ],
   "source": [
    "b=[LinearRegression(),DecisionTreeRegressor(),KNeighborsRegressor(),RandomForestRegressor(),AdaBoostRegressor(),SVR()]\n",
    "for c in b:\n",
    "    max_r_score=0\n",
    "    print('for the algorithm :',c)\n",
    "    for i in range(33,101):\n",
    "        x_train,x_test,y_train,y_test=train_test_split(x,y,random_state=i,test_size=.25)\n",
    "        c.fit(x_train,y_train)\n",
    "        pred=c.predict(x_test)\n",
    "        score=c.score(x_train,y_train)\n",
    "        r2_scr=r2_score(pred,y_test)\n",
    "        print('r2 score corresponding to random state',i,'is: ',r2_scr)\n",
    "        if r2_scr>max_r_score:\n",
    "            max_r_score=r2_scr\n",
    "            final=i\n",
    "            \n",
    "    print('\\n')\n",
    "    print('Max accuracy score corresponding to: ', final,'is: ',max_r_score)\n",
    "    print('\\n')"
   ]
  },
  {
   "cell_type": "code",
   "execution_count": 128,
   "metadata": {},
   "outputs": [],
   "source": [
    "rf=RandomForestRegressor()"
   ]
  },
  {
   "cell_type": "code",
   "execution_count": 129,
   "metadata": {},
   "outputs": [
    {
     "name": "stdout",
     "output_type": "stream",
     "text": [
      "0.6997295968997325\n",
      "RandomForestRegressor()\n",
      "{'criterion': 'mse'}\n"
     ]
    }
   ],
   "source": [
    "from sklearn.model_selection import GridSearchCV\n",
    "from sklearn.metrics import mean_squared_error\n",
    "param={'criterion':['mse','mae']}\n",
    "x_train,x_test,y_train,y_test=train_test_split(x,y,random_state=99,test_size=.25)\n",
    "cv = GridSearchCV(rf, param_grid=param)\n",
    "cv.fit(x_train, y_train)\n",
    "print(cv.best_score_)\n",
    "print(cv.best_estimator_)\n",
    "print(cv.best_params_)"
   ]
  },
  {
   "cell_type": "markdown",
   "metadata": {},
   "source": [
    "# Working on the Best Model"
   ]
  },
  {
   "cell_type": "code",
   "execution_count": 132,
   "metadata": {},
   "outputs": [
    {
     "name": "stdout",
     "output_type": "stream",
     "text": [
      "ACCURACY:  0.9634127658305998\n",
      "R2 SCORE: 0.8609411457569497\n",
      "Mean Squared Error: 1.593304100818664\n"
     ]
    }
   ],
   "source": [
    "rf=RandomForestRegressor(criterion='mse')\n",
    "rf.fit(x_train,y_train)\n",
    "pred=rf.predict(x_test)\n",
    "print(\"ACCURACY: \",rf.score(x_train,y_train))\n",
    "print('R2 SCORE:', r2_score(pred,y_test))\n",
    "print(\"Mean Squared Error:\", mean_squared_error(pred,y_test))"
   ]
  },
  {
   "cell_type": "code",
   "execution_count": null,
   "metadata": {},
   "outputs": [],
   "source": []
  },
  {
   "cell_type": "markdown",
   "metadata": {},
   "source": [
    "Saving the best Model"
   ]
  },
  {
   "cell_type": "code",
   "execution_count": 133,
   "metadata": {},
   "outputs": [],
   "source": [
    "import joblib"
   ]
  },
  {
   "cell_type": "code",
   "execution_count": 135,
   "metadata": {},
   "outputs": [
    {
     "data": {
      "text/plain": [
       "array([ 9.33364476,  2.2242091 , 13.87039781,  7.592023  , 12.30850621,\n",
       "        4.02971997,  0.5010747 ,  6.22827892,  8.0385534 ,  6.97004754,\n",
       "        6.79905333,  8.61160507,  6.87304373,  6.27714712,  2.65918712,\n",
       "        5.19357214, 11.45145331,  7.4387998 ,  1.16549799,  6.74209072,\n",
       "       11.5839571 , 10.15298277,  6.99617134, 13.83063046,  1.13190967,\n",
       "       13.74181325,  9.49609219,  4.36574027,  9.42928914,  7.86671487,\n",
       "        9.69188975,  1.92714319,  5.97607711,  7.6203374 , 13.00786322,\n",
       "        7.6679525 ,  6.57755121,  4.01215723,  7.65587412,  4.21388579,\n",
       "       10.05224353,  9.57581511,  9.21450842,  3.91508788,  3.8893183 ,\n",
       "        6.97842032,  6.65603244])"
      ]
     },
     "execution_count": 135,
     "metadata": {},
     "output_type": "execute_result"
    }
   ],
   "source": [
    "joblib.dump(rf,'corona_rf.obj')\n",
    "rf_load=joblib.load('corona_rf.obj')\n",
    "rf_load.predict(x_test)"
   ]
  },
  {
   "cell_type": "code",
   "execution_count": 136,
   "metadata": {},
   "outputs": [
    {
     "data": {
      "text/plain": [
       "80     10.672229\n",
       "169     0.000000\n",
       "66     12.675035\n",
       "89      7.160846\n",
       "81     12.774113\n",
       "121     3.401197\n",
       "143     0.000000\n",
       "145     7.817223\n",
       "9      10.255798\n",
       "44      7.961370\n",
       "159     6.061457\n",
       "67      6.845880\n",
       "92      6.961296\n",
       "65      5.950643\n",
       "24      4.110874\n",
       "14      5.720312\n",
       "134    11.178236\n",
       "43      8.144679\n",
       "50      0.000000\n",
       "49      5.204007\n",
       "16     12.801340\n",
       "113    11.836797\n",
       "180     6.100319\n",
       "85     14.265488\n",
       "144     0.000000\n",
       "36     12.860110\n",
       "51      9.699411\n",
       "4       4.882802\n",
       "135    10.325121\n",
       "71      6.102559\n",
       "8       8.425955\n",
       "184     0.693147\n",
       "105     2.944439\n",
       "168     7.901007\n",
       "140    11.167035\n",
       "103     8.473032\n",
       "40      7.591862\n",
       "181     6.289716\n",
       "114     8.784468\n",
       "157     4.204693\n",
       "137    10.809081\n",
       "46      9.402365\n",
       "176     9.647563\n",
       "117     5.877736\n",
       "112     6.295266\n",
       "172     7.686621\n",
       "97      7.240650\n",
       "Name: Deaths, dtype: float64"
      ]
     },
     "execution_count": 136,
     "metadata": {},
     "output_type": "execute_result"
    }
   ],
   "source": [
    "y_test"
   ]
  },
  {
   "cell_type": "code",
   "execution_count": null,
   "metadata": {},
   "outputs": [],
   "source": []
  }
 ],
 "metadata": {
  "kernelspec": {
   "display_name": "Python 3",
   "language": "python",
   "name": "python3"
  },
  "language_info": {
   "codemirror_mode": {
    "name": "ipython",
    "version": 3
   },
   "file_extension": ".py",
   "mimetype": "text/x-python",
   "name": "python",
   "nbconvert_exporter": "python",
   "pygments_lexer": "ipython3",
   "version": "3.8.3"
  }
 },
 "nbformat": 4,
 "nbformat_minor": 4
}
